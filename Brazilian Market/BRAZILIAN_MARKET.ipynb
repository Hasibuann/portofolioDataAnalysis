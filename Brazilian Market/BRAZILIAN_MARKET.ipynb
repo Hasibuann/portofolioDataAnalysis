{
  "cells": [
    {
      "cell_type": "markdown",
      "metadata": {
        "id": "yEMwh0PYj3sf"
      },
      "source": [
        "# BRAZILIAN DATASET"
      ]
    },
    {
      "cell_type": "markdown",
      "metadata": {
        "id": "lBimCbaPj6xt"
      },
      "source": [
        "WRAGRLING DATA"
      ]
    },
    {
      "cell_type": "markdown",
      "metadata": {
        "id": "ima2vUB_j_5Y"
      },
      "source": [
        "### IMPORT LIBRARY"
      ]
    },
    {
      "cell_type": "code",
      "execution_count": 29,
      "metadata": {
        "id": "bMx5BjBtPbbA"
      },
      "outputs": [],
      "source": [
        "import pandas as pd\n",
        "import numpy as np\n",
        "import matplotlib.pyplot as plt\n",
        "import seaborn as sns\n",
        "import warnings\n",
        "warnings.filterwarnings(\"ignore\")\n",
        "\n",
        "\n",
        "pd.set_option('display.max_columns', None)"
      ]
    },
    {
      "cell_type": "markdown",
      "metadata": {
        "id": "6HxHAxiEkFM9"
      },
      "source": [
        "### GATHERING DATA"
      ]
    },
    {
      "cell_type": "code",
      "execution_count": 3,
      "metadata": {
        "id": "JMDpUpbOYiqI"
      },
      "outputs": [],
      "source": [
        "cust = pd.read_csv('olist_customers_dataset.csv')\n",
        "geo = pd.read_csv('olist_geolocation_dataset.csv')\n",
        "item = pd.read_csv('olist_order_items_dataset.csv')\n",
        "payment = pd.read_csv('olist_order_payments_dataset.csv')\n",
        "reviews = pd.read_csv('olist_order_reviews_dataset.csv')\n",
        "order = pd.read_csv('olist_orders_dataset.csv')\n",
        "product = pd.read_csv('olist_products_dataset.csv')\n",
        "sellers = pd.read_csv('olist_sellers_dataset.csv')\n",
        "productCategory = pd.read_csv('olist_product_category_name_translation.csv')"
      ]
    },
    {
      "cell_type": "code",
      "execution_count": 4,
      "metadata": {
        "colab": {
          "base_uri": "https://localhost:8080/"
        },
        "id": "PPNvzMv6akCL",
        "outputId": "478ebcbb-6a08-4771-c835-c3525eec48c1"
      },
      "outputs": [
        {
          "name": "stdout",
          "output_type": "stream",
          "text": [
            "cust : (99441, 5) Index(['customer_id', 'customer_unique_id', 'customer_zip_code_prefix',\n",
            "       'customer_city', 'customer_state'],\n",
            "      dtype='object')\n",
            "geo: (1000163, 5) Index(['geolocation_zip_code_prefix', 'geolocation_lat', 'geolocation_lng',\n",
            "       'geolocation_city', 'geolocation_state'],\n",
            "      dtype='object')\n",
            "item: (112650, 7) Index(['order_id', 'order_item_id', 'product_id', 'seller_id',\n",
            "       'shipping_limit_date', 'price', 'freight_value'],\n",
            "      dtype='object')\n",
            "payment: (103886, 5) Index(['order_id', 'payment_sequential', 'payment_type',\n",
            "       'payment_installments', 'payment_value'],\n",
            "      dtype='object')\n",
            "reviews: (99224, 7) Index(['review_id', 'order_id', 'review_score', 'review_comment_title',\n",
            "       'review_comment_message', 'review_creation_date',\n",
            "       'review_answer_timestamp'],\n",
            "      dtype='object')\n",
            "order: (99441, 8) Index(['order_id', 'customer_id', 'order_status', 'order_purchase_timestamp',\n",
            "       'order_approved_at', 'order_delivered_carrier_date',\n",
            "       'order_delivered_customer_date', 'order_estimated_delivery_date'],\n",
            "      dtype='object')\n",
            "product: (32951, 9) Index(['product_id', 'product_category_name', 'product_name_lenght',\n",
            "       'product_description_lenght', 'product_photos_qty', 'product_weight_g',\n",
            "       'product_length_cm', 'product_height_cm', 'product_width_cm'],\n",
            "      dtype='object')\n",
            "sellers: (3095, 4) Index(['seller_id', 'seller_zip_code_prefix', 'seller_city', 'seller_state'], dtype='object')\n",
            "productCategory: (71, 2) Index(['product_category_name', 'product_category_name_english'], dtype='object')\n"
          ]
        }
      ],
      "source": [
        "print('cust :', cust.shape, cust.columns)\n",
        "print('geo:', geo.shape, geo.columns)\n",
        "print('item:',item.shape, item.columns)\n",
        "print('payment:',payment.shape, payment.columns)\n",
        "print('reviews:',reviews.shape, reviews.columns)\n",
        "print('order:',order.shape, order.columns)\n",
        "print('product:',product.shape, product.columns)\n",
        "print('sellers:',sellers.shape, sellers.columns)\n",
        "print('productCategory:',productCategory.shape, productCategory.columns)\n"
      ]
    },
    {
      "cell_type": "markdown",
      "metadata": {
        "id": "4rGb8lymkJI4"
      },
      "source": [
        "### ASSESSING DATA"
      ]
    },
    {
      "cell_type": "markdown",
      "metadata": {
        "id": "kSv7sGa2ZeTW"
      },
      "source": [
        "#### DATA TYPE"
      ]
    },
    {
      "cell_type": "code",
      "execution_count": 6,
      "metadata": {
        "colab": {
          "base_uri": "https://localhost:8080/"
        },
        "id": "mVYO-Dhc-k2F",
        "outputId": "adab38a4-1bf6-40dc-f3c2-3b45237ab314"
      },
      "outputs": [
        {
          "name": "stdout",
          "output_type": "stream",
          "text": [
            "<class 'pandas.core.frame.DataFrame'>\n",
            "RangeIndex: 99441 entries, 0 to 99440\n",
            "Data columns (total 5 columns):\n",
            " #   Column                    Non-Null Count  Dtype \n",
            "---  ------                    --------------  ----- \n",
            " 0   customer_id               99441 non-null  object\n",
            " 1   customer_unique_id        99441 non-null  object\n",
            " 2   customer_zip_code_prefix  99441 non-null  int64 \n",
            " 3   customer_city             99441 non-null  object\n",
            " 4   customer_state            99441 non-null  object\n",
            "dtypes: int64(1), object(4)\n",
            "memory usage: 3.8+ MB\n",
            "\n",
            " cust:None\n",
            "\n",
            "<class 'pandas.core.frame.DataFrame'>\n",
            "RangeIndex: 1000163 entries, 0 to 1000162\n",
            "Data columns (total 5 columns):\n",
            " #   Column                       Non-Null Count    Dtype  \n",
            "---  ------                       --------------    -----  \n",
            " 0   geolocation_zip_code_prefix  1000163 non-null  int64  \n",
            " 1   geolocation_lat              1000163 non-null  float64\n",
            " 2   geolocation_lng              1000163 non-null  float64\n",
            " 3   geolocation_city             1000163 non-null  object \n",
            " 4   geolocation_state            1000163 non-null  object \n",
            "dtypes: float64(2), int64(1), object(2)\n",
            "memory usage: 38.2+ MB\n",
            "\n",
            " geo:None\n",
            "\n",
            "<class 'pandas.core.frame.DataFrame'>\n",
            "RangeIndex: 112650 entries, 0 to 112649\n",
            "Data columns (total 7 columns):\n",
            " #   Column               Non-Null Count   Dtype  \n",
            "---  ------               --------------   -----  \n",
            " 0   order_id             112650 non-null  object \n",
            " 1   order_item_id        112650 non-null  int64  \n",
            " 2   product_id           112650 non-null  object \n",
            " 3   seller_id            112650 non-null  object \n",
            " 4   shipping_limit_date  112650 non-null  object \n",
            " 5   price                112650 non-null  float64\n",
            " 6   freight_value        112650 non-null  float64\n",
            "dtypes: float64(2), int64(1), object(4)\n",
            "memory usage: 6.0+ MB\n",
            "\n",
            " item:None\n",
            "\n",
            "<class 'pandas.core.frame.DataFrame'>\n",
            "RangeIndex: 103886 entries, 0 to 103885\n",
            "Data columns (total 5 columns):\n",
            " #   Column                Non-Null Count   Dtype  \n",
            "---  ------                --------------   -----  \n",
            " 0   order_id              103886 non-null  object \n",
            " 1   payment_sequential    103886 non-null  int64  \n",
            " 2   payment_type          103886 non-null  object \n",
            " 3   payment_installments  103886 non-null  int64  \n",
            " 4   payment_value         103886 non-null  float64\n",
            "dtypes: float64(1), int64(2), object(2)\n",
            "memory usage: 4.0+ MB\n",
            "\n",
            " payment:None\n",
            "\n",
            "<class 'pandas.core.frame.DataFrame'>\n",
            "RangeIndex: 99441 entries, 0 to 99440\n",
            "Data columns (total 8 columns):\n",
            " #   Column                         Non-Null Count  Dtype \n",
            "---  ------                         --------------  ----- \n",
            " 0   order_id                       99441 non-null  object\n",
            " 1   customer_id                    99441 non-null  object\n",
            " 2   order_status                   99441 non-null  object\n",
            " 3   order_purchase_timestamp       99441 non-null  object\n",
            " 4   order_approved_at              99281 non-null  object\n",
            " 5   order_delivered_carrier_date   97658 non-null  object\n",
            " 6   order_delivered_customer_date  96476 non-null  object\n",
            " 7   order_estimated_delivery_date  99441 non-null  object\n",
            "dtypes: object(8)\n",
            "memory usage: 6.1+ MB\n",
            "\n",
            " order:None\n",
            "\n",
            "<class 'pandas.core.frame.DataFrame'>\n",
            "RangeIndex: 32951 entries, 0 to 32950\n",
            "Data columns (total 9 columns):\n",
            " #   Column                      Non-Null Count  Dtype  \n",
            "---  ------                      --------------  -----  \n",
            " 0   product_id                  32951 non-null  object \n",
            " 1   product_category_name       32341 non-null  object \n",
            " 2   product_name_lenght         32341 non-null  float64\n",
            " 3   product_description_lenght  32341 non-null  float64\n",
            " 4   product_photos_qty          32341 non-null  float64\n",
            " 5   product_weight_g            32949 non-null  float64\n",
            " 6   product_length_cm           32949 non-null  float64\n",
            " 7   product_height_cm           32949 non-null  float64\n",
            " 8   product_width_cm            32949 non-null  float64\n",
            "dtypes: float64(7), object(2)\n",
            "memory usage: 2.3+ MB\n",
            "\n",
            " product:None\n",
            "\n",
            "<class 'pandas.core.frame.DataFrame'>\n",
            "RangeIndex: 3095 entries, 0 to 3094\n",
            "Data columns (total 4 columns):\n",
            " #   Column                  Non-Null Count  Dtype \n",
            "---  ------                  --------------  ----- \n",
            " 0   seller_id               3095 non-null   object\n",
            " 1   seller_zip_code_prefix  3095 non-null   int64 \n",
            " 2   seller_city             3095 non-null   object\n",
            " 3   seller_state            3095 non-null   object\n",
            "dtypes: int64(1), object(3)\n",
            "memory usage: 96.8+ KB\n",
            "\n",
            " sellers:None\n",
            "\n",
            "<class 'pandas.core.frame.DataFrame'>\n",
            "RangeIndex: 71 entries, 0 to 70\n",
            "Data columns (total 2 columns):\n",
            " #   Column                         Non-Null Count  Dtype \n",
            "---  ------                         --------------  ----- \n",
            " 0   product_category_name          71 non-null     object\n",
            " 1   product_category_name_english  71 non-null     object\n",
            "dtypes: object(2)\n",
            "memory usage: 1.2+ KB\n",
            "\n",
            " productCategory:None\n",
            "\n"
          ]
        }
      ],
      "source": [
        "print (f'\\n cust:{cust.info()}\\n' ),\n",
        "print (f'\\n geo:{geo.info()}\\n' ),\n",
        "print (f'\\n item:{item.info()}\\n' ),\n",
        "print (f'\\n payment:{payment.info()}\\n' ),\n",
        "print (f'\\n order:{order.info()}\\n' ),\n",
        "print (f'\\n product:{product.info()}\\n' ),\n",
        "print (f'\\n sellers:{sellers.info()}\\n' ),\n",
        "print (f'\\n productCategory:{productCategory.info()}\\n' )"
      ]
    },
    {
      "cell_type": "markdown",
      "metadata": {
        "id": "CpH14WsrBjjW"
      },
      "source": [
        "Changing the data type to datetime:\n",
        "shipping_limit_date , order_purchase_timestamp,\n",
        "order_approved_at ,\n",
        "order_delivered_carrier_date ,\n",
        "order_delivered_customer_date   ,\n",
        "order_estimated_delivery_date"
      ]
    },
    {
      "cell_type": "code",
      "execution_count": 9,
      "metadata": {
        "id": "SqBqFWdbaHoo"
      },
      "outputs": [],
      "source": [
        "date_columns = ['order_purchase_timestamp', 'order_approved_at', 'order_delivered_carrier_date', 'order_delivered_customer_date', 'order_estimated_delivery_date']\n",
        "order[date_columns] = order[date_columns].apply(pd.to_datetime)"
      ]
    },
    {
      "cell_type": "code",
      "execution_count": 10,
      "metadata": {
        "id": "bGRpN4eQXzyQ"
      },
      "outputs": [],
      "source": [
        "item['shipping_limit_date'] = pd.to_datetime(item['shipping_limit_date'])"
      ]
    },
    {
      "cell_type": "markdown",
      "metadata": {},
      "source": [
        "in this step i'll converts the date fields in the 'order' and 'item' dataframes into a processable format, allowing for more efficient time analysis"
      ]
    },
    {
      "cell_type": "markdown",
      "metadata": {
        "id": "WKWUZ9NZZjz3"
      },
      "source": [
        "#### MISSING VALUES"
      ]
    },
    {
      "cell_type": "code",
      "execution_count": 7,
      "metadata": {
        "colab": {
          "base_uri": "https://localhost:8080/"
        },
        "id": "9iMnZlQ2YDB-",
        "outputId": "08195abb-ec19-4302-98be-a1f130ef9d8d"
      },
      "outputs": [
        {
          "name": "stdout",
          "output_type": "stream",
          "text": [
            "\n",
            " cust:customer_id                 0\n",
            "customer_unique_id          0\n",
            "customer_zip_code_prefix    0\n",
            "customer_city               0\n",
            "customer_state              0\n",
            "dtype: int64\n",
            "\n",
            "\n",
            " geo:geolocation_zip_code_prefix    0\n",
            "geolocation_lat                0\n",
            "geolocation_lng                0\n",
            "geolocation_city               0\n",
            "geolocation_state              0\n",
            "dtype: int64\n",
            "\n",
            "\n",
            " item:order_id               0\n",
            "order_item_id          0\n",
            "product_id             0\n",
            "seller_id              0\n",
            "shipping_limit_date    0\n",
            "price                  0\n",
            "freight_value          0\n",
            "dtype: int64\n",
            "\n",
            "\n",
            " payment:order_id                0\n",
            "payment_sequential      0\n",
            "payment_type            0\n",
            "payment_installments    0\n",
            "payment_value           0\n",
            "dtype: int64\n",
            "\n",
            "\n",
            " order:order_id                            0\n",
            "customer_id                         0\n",
            "order_status                        0\n",
            "order_purchase_timestamp            0\n",
            "order_approved_at                 160\n",
            "order_delivered_carrier_date     1783\n",
            "order_delivered_customer_date    2965\n",
            "order_estimated_delivery_date       0\n",
            "dtype: int64\n",
            "\n",
            "\n",
            " product:product_id                      0\n",
            "product_category_name         610\n",
            "product_name_lenght           610\n",
            "product_description_lenght    610\n",
            "product_photos_qty            610\n",
            "product_weight_g                2\n",
            "product_length_cm               2\n",
            "product_height_cm               2\n",
            "product_width_cm                2\n",
            "dtype: int64\n",
            "\n",
            "\n",
            " sellers:seller_id                 0\n",
            "seller_zip_code_prefix    0\n",
            "seller_city               0\n",
            "seller_state              0\n",
            "dtype: int64\n",
            "\n",
            "\n",
            " productCategory:product_category_name            0\n",
            "product_category_name_english    0\n",
            "dtype: int64\n",
            "\n"
          ]
        }
      ],
      "source": [
        "print (f'\\n cust:{cust.isna().sum()}\\n' ),\n",
        "print (f'\\n geo:{geo.isna().sum()}\\n' ),\n",
        "print (f'\\n item:{item.isna().sum()}\\n' ),\n",
        "print (f'\\n payment:{payment.isna().sum()}\\n' ),\n",
        "print (f'\\n order:{order.isna().sum()}\\n' ),\n",
        "print (f'\\n product:{product.isna().sum()}\\n' ),\n",
        "print (f'\\n sellers:{sellers.isna().sum()}\\n' ),\n",
        "print (f'\\n productCategory:{productCategory.isna().sum()}\\n' )"
      ]
    },
    {
      "cell_type": "code",
      "execution_count": null,
      "metadata": {
        "id": "TEWyl2feau9m"
      },
      "outputs": [],
      "source": [
        "# Interpolation for the columns order_approved_at, order_delivered_carrier_date, and order_delivered_customer_date.\n",
        "order[['order_approved_at', 'order_delivered_carrier_date', 'order_delivered_customer_date']] = order[['order_approved_at', 'order_delivered_carrier_date', 'order_delivered_customer_date']].interpolate(method='pad', axis=0)"
      ]
    },
    {
      "cell_type": "markdown",
      "metadata": {},
      "source": [
        "in this step I use the 'pad' interpolation method to fill in the missing values ​​in a specific date column in the 'order' dataframe with the last known values. This is done to ensure that missing date data is filled in with previous values ​​in a reasonable time sequence."
      ]
    },
    {
      "cell_type": "code",
      "execution_count": 12,
      "metadata": {
        "id": "UBY4WQewdL0R"
      },
      "outputs": [],
      "source": [
        "# Find the median for each column that has missing values\n",
        "median_values = product[['product_name_lenght', 'product_description_lenght',\n",
        "                    'product_photos_qty', 'product_weight_g', 'product_length_cm',\n",
        "                    'product_height_cm', 'product_width_cm']].median()\n",
        "\n",
        "# Filling missing values with the median.\n",
        "product[[ 'product_name_lenght', 'product_description_lenght',\n",
        "    'product_photos_qty', 'product_weight_g', 'product_length_cm',\n",
        "    'product_height_cm', 'product_width_cm']] = product[['product_name_lenght',\n",
        "                                                     'product_description_lenght', 'product_photos_qty',\n",
        "                                                     'product_weight_g', 'product_length_cm',\n",
        "                                                     'product_height_cm', 'product_width_cm']].fillna(median_values)"
      ]
    },
    {
      "cell_type": "markdown",
      "metadata": {},
      "source": [
        "In this step, I calculate the median for each column that has missing values, such as the length and width of the product. The median is chosen because it is more resistant to outliers compared to the mean. The next step is to fill in the missing values in each column with the corresponding median value to ensure a stable representation of each column."
      ]
    },
    {
      "cell_type": "code",
      "execution_count": 13,
      "metadata": {},
      "outputs": [],
      "source": [
        "product = product.merge(productCategory, how='inner', on = 'product_category_name')"
      ]
    },
    {
      "cell_type": "markdown",
      "metadata": {},
      "source": [
        "In this stage, we are merging the 'product' dataframe with the 'productCategory' dataframe based on the 'product_category_name' column using the inner join method. The purpose is to delve deeper into insights of the products by enriching product information with the related category."
      ]
    },
    {
      "cell_type": "code",
      "execution_count": 14,
      "metadata": {},
      "outputs": [
        {
          "name": "stdout",
          "output_type": "stream",
          "text": [
            "(32328, 10)\n"
          ]
        },
        {
          "data": {
            "text/html": [
              "<div>\n",
              "<style scoped>\n",
              "    .dataframe tbody tr th:only-of-type {\n",
              "        vertical-align: middle;\n",
              "    }\n",
              "\n",
              "    .dataframe tbody tr th {\n",
              "        vertical-align: top;\n",
              "    }\n",
              "\n",
              "    .dataframe thead th {\n",
              "        text-align: right;\n",
              "    }\n",
              "</style>\n",
              "<table border=\"1\" class=\"dataframe\">\n",
              "  <thead>\n",
              "    <tr style=\"text-align: right;\">\n",
              "      <th></th>\n",
              "      <th>product_id</th>\n",
              "      <th>product_category_name</th>\n",
              "      <th>product_name_lenght</th>\n",
              "      <th>product_description_lenght</th>\n",
              "      <th>product_photos_qty</th>\n",
              "      <th>product_weight_g</th>\n",
              "      <th>product_length_cm</th>\n",
              "      <th>product_height_cm</th>\n",
              "      <th>product_width_cm</th>\n",
              "      <th>product_category_name_english</th>\n",
              "    </tr>\n",
              "  </thead>\n",
              "  <tbody>\n",
              "    <tr>\n",
              "      <th>0</th>\n",
              "      <td>1e9e8ef04dbcff4541ed26657ea517e5</td>\n",
              "      <td>perfumaria</td>\n",
              "      <td>40.0</td>\n",
              "      <td>287.0</td>\n",
              "      <td>1.0</td>\n",
              "      <td>225.0</td>\n",
              "      <td>16.0</td>\n",
              "      <td>10.0</td>\n",
              "      <td>14.0</td>\n",
              "      <td>perfumery</td>\n",
              "    </tr>\n",
              "    <tr>\n",
              "      <th>1</th>\n",
              "      <td>6a2fb4dd53d2cdb88e0432f1284a004c</td>\n",
              "      <td>perfumaria</td>\n",
              "      <td>39.0</td>\n",
              "      <td>346.0</td>\n",
              "      <td>2.0</td>\n",
              "      <td>400.0</td>\n",
              "      <td>27.0</td>\n",
              "      <td>5.0</td>\n",
              "      <td>20.0</td>\n",
              "      <td>perfumery</td>\n",
              "    </tr>\n",
              "    <tr>\n",
              "      <th>2</th>\n",
              "      <td>0d009643171aee696f4733340bc2fdd0</td>\n",
              "      <td>perfumaria</td>\n",
              "      <td>52.0</td>\n",
              "      <td>150.0</td>\n",
              "      <td>1.0</td>\n",
              "      <td>422.0</td>\n",
              "      <td>21.0</td>\n",
              "      <td>16.0</td>\n",
              "      <td>18.0</td>\n",
              "      <td>perfumery</td>\n",
              "    </tr>\n",
              "    <tr>\n",
              "      <th>3</th>\n",
              "      <td>b1eae565a61935e0011ee7682fef9dc9</td>\n",
              "      <td>perfumaria</td>\n",
              "      <td>49.0</td>\n",
              "      <td>460.0</td>\n",
              "      <td>2.0</td>\n",
              "      <td>267.0</td>\n",
              "      <td>17.0</td>\n",
              "      <td>13.0</td>\n",
              "      <td>17.0</td>\n",
              "      <td>perfumery</td>\n",
              "    </tr>\n",
              "    <tr>\n",
              "      <th>4</th>\n",
              "      <td>8da90b37f0fb171b4877c124f965b1f6</td>\n",
              "      <td>perfumaria</td>\n",
              "      <td>56.0</td>\n",
              "      <td>733.0</td>\n",
              "      <td>3.0</td>\n",
              "      <td>377.0</td>\n",
              "      <td>18.0</td>\n",
              "      <td>13.0</td>\n",
              "      <td>15.0</td>\n",
              "      <td>perfumery</td>\n",
              "    </tr>\n",
              "  </tbody>\n",
              "</table>\n",
              "</div>"
            ],
            "text/plain": [
              "                         product_id product_category_name  \\\n",
              "0  1e9e8ef04dbcff4541ed26657ea517e5            perfumaria   \n",
              "1  6a2fb4dd53d2cdb88e0432f1284a004c            perfumaria   \n",
              "2  0d009643171aee696f4733340bc2fdd0            perfumaria   \n",
              "3  b1eae565a61935e0011ee7682fef9dc9            perfumaria   \n",
              "4  8da90b37f0fb171b4877c124f965b1f6            perfumaria   \n",
              "\n",
              "   product_name_lenght  product_description_lenght  product_photos_qty  \\\n",
              "0                 40.0                       287.0                 1.0   \n",
              "1                 39.0                       346.0                 2.0   \n",
              "2                 52.0                       150.0                 1.0   \n",
              "3                 49.0                       460.0                 2.0   \n",
              "4                 56.0                       733.0                 3.0   \n",
              "\n",
              "   product_weight_g  product_length_cm  product_height_cm  product_width_cm  \\\n",
              "0             225.0               16.0               10.0              14.0   \n",
              "1             400.0               27.0                5.0              20.0   \n",
              "2             422.0               21.0               16.0              18.0   \n",
              "3             267.0               17.0               13.0              17.0   \n",
              "4             377.0               18.0               13.0              15.0   \n",
              "\n",
              "  product_category_name_english  \n",
              "0                     perfumery  \n",
              "1                     perfumery  \n",
              "2                     perfumery  \n",
              "3                     perfumery  \n",
              "4                     perfumery  "
            ]
          },
          "execution_count": 14,
          "metadata": {},
          "output_type": "execute_result"
        }
      ],
      "source": [
        "print(product.shape)\n",
        "product.head()"
      ]
    },
    {
      "cell_type": "code",
      "execution_count": 15,
      "metadata": {
        "colab": {
          "base_uri": "https://localhost:8080/"
        },
        "id": "A1iv7yevd-k3",
        "outputId": "d9024642-649a-4de1-c17b-74ff62d5aa52"
      },
      "outputs": [
        {
          "name": "stdout",
          "output_type": "stream",
          "text": [
            "set()\n"
          ]
        }
      ],
      "source": [
        "#checking kategory yang tidak ada\n",
        "diffCat = product.query(\"product_category_name.notnull() and product_category_name_english.isnull()\")\n",
        "categories = set(diffCat[\"product_category_name\"])\n",
        "print(categories)\n",
        "#mengganti kategori yang tidak ada dalam english dengan translasi dari bahasa asli\n",
        "product[\"product_category_name_english\"] = np.where(product[\"product_category_name\"]\n",
        "                                                    == 'pc_gamer', 'PC Gaming', product\n",
        "                                                    [\"product_category_name_english\"])\n",
        "\n",
        "\n",
        "product[\"product_category_name_english\"] = np.where(product[\"product_category_name\"]\n",
        "                                                            =='portateis_cozinha_e_preparadores_de_alimentos', 'tool for kitchen',\n",
        "                                                            product[\"product_category_name_english\"])\n"
      ]
    },
    {
      "cell_type": "markdown",
      "metadata": {},
      "source": [
        "In this step, I am checking categories that do not have values in the 'product_category_name_english' column but have values in the 'product_category_name' column. Once categories without translations into English are found, the code replaces their values with pre-determined translations. This helps in consistency and ensures that each category has an appropriate translation for easier and consistent analysis."
      ]
    },
    {
      "cell_type": "code",
      "execution_count": 16,
      "metadata": {
        "colab": {
          "base_uri": "https://localhost:8080/"
        },
        "id": "pZrWz4hyr50x",
        "outputId": "ae229b23-d158-4e82-fe13-ff80a6803515"
      },
      "outputs": [
        {
          "data": {
            "text/plain": [
              "product_id                       0\n",
              "product_category_name            0\n",
              "product_name_lenght              0\n",
              "product_description_lenght       0\n",
              "product_photos_qty               0\n",
              "product_weight_g                 0\n",
              "product_length_cm                0\n",
              "product_height_cm                0\n",
              "product_width_cm                 0\n",
              "product_category_name_english    0\n",
              "dtype: int64"
            ]
          },
          "execution_count": 16,
          "metadata": {},
          "output_type": "execute_result"
        }
      ],
      "source": [
        "product['product_category_name'].fillna('undefined', inplace= True)\n",
        "product['product_category_name_english'].fillna('undefined', inplace= True)\n",
        "\n",
        "product.isna().sum()\n"
      ]
    },
    {
      "cell_type": "markdown",
      "metadata": {},
      "source": [
        "In this step, I am filling the missing values in the 'product_category_name' and 'product_category_name_english' columns with the string 'undefined'. This is done to mark categories that were not previously defined or do not have translations in English."
      ]
    },
    {
      "cell_type": "code",
      "execution_count": 17,
      "metadata": {
        "colab": {
          "base_uri": "https://localhost:8080/"
        },
        "id": "8cuswbzcZa_x",
        "outputId": "d3564574-bdad-45ad-f690-81e1042e37bb"
      },
      "outputs": [
        {
          "name": "stdout",
          "output_type": "stream",
          "text": [
            "\n",
            " cust:(99441, 5)\n",
            "\n",
            "\n",
            " cust:Index(['customer_id', 'customer_unique_id', 'customer_zip_code_prefix',\n",
            "       'customer_city', 'customer_state'],\n",
            "      dtype='object')\n",
            "\n",
            "\n",
            " geo:(1000163, 5)\n",
            "\n",
            "\n",
            " geo:Index(['geolocation_zip_code_prefix', 'geolocation_lat', 'geolocation_lng',\n",
            "       'geolocation_city', 'geolocation_state'],\n",
            "      dtype='object')\n",
            "\n",
            "\n",
            " item:(112650, 7)\n",
            "\n",
            "\n",
            " item:Index(['order_id', 'order_item_id', 'product_id', 'seller_id',\n",
            "       'shipping_limit_date', 'price', 'freight_value'],\n",
            "      dtype='object')\n",
            "\n",
            "\n",
            " payment:(103886, 5)\n",
            "\n",
            "\n",
            " payment:Index(['order_id', 'payment_sequential', 'payment_type',\n",
            "       'payment_installments', 'payment_value'],\n",
            "      dtype='object')\n",
            "\n",
            "\n",
            " order:(99441, 8)\n",
            "\n",
            "\n",
            " order:Index(['order_id', 'customer_id', 'order_status', 'order_purchase_timestamp',\n",
            "       'order_approved_at', 'order_delivered_carrier_date',\n",
            "       'order_delivered_customer_date', 'order_estimated_delivery_date'],\n",
            "      dtype='object')\n",
            "\n",
            "\n",
            " product:(32328, 10)\n",
            "\n",
            "\n",
            " product:Index(['product_id', 'product_category_name', 'product_name_lenght',\n",
            "       'product_description_lenght', 'product_photos_qty', 'product_weight_g',\n",
            "       'product_length_cm', 'product_height_cm', 'product_width_cm',\n",
            "       'product_category_name_english'],\n",
            "      dtype='object')\n",
            "\n",
            "\n",
            " sellers:(3095, 4)\n",
            "\n",
            "\n",
            " sellers:Index(['seller_id', 'seller_zip_code_prefix', 'seller_city', 'seller_state'], dtype='object')\n",
            "\n",
            "\n",
            " productCategory:(71, 2)\n",
            "\n",
            "\n",
            " productCategory:Index(['product_category_name', 'product_category_name_english'], dtype='object')\n",
            "\n"
          ]
        }
      ],
      "source": [
        "print (f'\\n cust:{cust.shape}\\n' ),\n",
        "print (f'\\n cust:{cust.columns}\\n' ),\n",
        "print (f'\\n geo:{geo.shape}\\n' ),\n",
        "print (f'\\n geo:{geo.columns}\\n' ),\n",
        "print (f'\\n item:{item.shape}\\n' ),\n",
        "print (f'\\n item:{item.columns}\\n' ),\n",
        "print (f'\\n payment:{payment.shape}\\n' ),\n",
        "print (f'\\n payment:{payment.columns}\\n' ),\n",
        "print (f'\\n order:{order.shape}\\n' ),\n",
        "print (f'\\n order:{order.columns}\\n' ),\n",
        "print (f'\\n product:{product.shape}\\n' ),\n",
        "print (f'\\n product:{product.columns}\\n' ),\n",
        "print (f'\\n sellers:{sellers.shape}\\n' ),\n",
        "print (f'\\n sellers:{sellers.columns}\\n' ),\n",
        "print (f'\\n productCategory:{productCategory.shape}\\n' )\n",
        "print (f'\\n productCategory:{productCategory.columns}\\n' )"
      ]
    },
    {
      "cell_type": "markdown",
      "metadata": {
        "id": "hlyzTLRGsSXP"
      },
      "source": [
        "#### CHEKING MISSING VALUES"
      ]
    },
    {
      "cell_type": "code",
      "execution_count": 18,
      "metadata": {
        "colab": {
          "base_uri": "https://localhost:8080/"
        },
        "id": "zIEdzZradFg6",
        "outputId": "46ea633d-3081-4f53-8e91-21a28d3a8f92"
      },
      "outputs": [
        {
          "name": "stdout",
          "output_type": "stream",
          "text": [
            "cust:customer_id                 0\n",
            "customer_unique_id          0\n",
            "customer_zip_code_prefix    0\n",
            "customer_city               0\n",
            "customer_state              0\n",
            "dtype: int64\n",
            "\n",
            "geo:geolocation_zip_code_prefix    0\n",
            "geolocation_lat                0\n",
            "geolocation_lng                0\n",
            "geolocation_city               0\n",
            "geolocation_state              0\n",
            "dtype: int64\n",
            "\n",
            "item:order_id               0\n",
            "order_item_id          0\n",
            "product_id             0\n",
            "seller_id              0\n",
            "shipping_limit_date    0\n",
            "price                  0\n",
            "freight_value          0\n",
            "dtype: int64\n",
            "\n",
            "payment:order_id                0\n",
            "payment_sequential      0\n",
            "payment_type            0\n",
            "payment_installments    0\n",
            "payment_value           0\n",
            "dtype: int64\n",
            "\n",
            "order:order_id                         0\n",
            "customer_id                      0\n",
            "order_status                     0\n",
            "order_purchase_timestamp         0\n",
            "order_approved_at                0\n",
            "order_delivered_carrier_date     0\n",
            "order_delivered_customer_date    0\n",
            "order_estimated_delivery_date    0\n",
            "dtype: int64\n",
            "\n",
            "product:product_id                       0\n",
            "product_category_name            0\n",
            "product_name_lenght              0\n",
            "product_description_lenght       0\n",
            "product_photos_qty               0\n",
            "product_weight_g                 0\n",
            "product_length_cm                0\n",
            "product_height_cm                0\n",
            "product_width_cm                 0\n",
            "product_category_name_english    0\n",
            "dtype: int64\n",
            "\n",
            "sellers:seller_id                 0\n",
            "seller_zip_code_prefix    0\n",
            "seller_city               0\n",
            "seller_state              0\n",
            "dtype: int64\n",
            "\n",
            "productCategory:product_category_name            0\n",
            "product_category_name_english    0\n",
            "dtype: int64\n",
            "\n"
          ]
        }
      ],
      "source": [
        "print (f'cust:{cust.isna().sum()}\\n' ),\n",
        "print (f'geo:{geo.isna().sum()}\\n' ),\n",
        "print (f'item:{item.isna().sum()}\\n' ),\n",
        "print (f'payment:{payment.isna().sum()}\\n' ),\n",
        "print (f'order:{order.isna().sum()}\\n' ),\n",
        "print (f'product:{product.isna().sum()}\\n' ),\n",
        "print (f'sellers:{sellers.isna().sum()}\\n' ),\n",
        "print (f'productCategory:{productCategory.isna().sum()}\\n' )"
      ]
    },
    {
      "cell_type": "markdown",
      "metadata": {
        "id": "BJL-V4kJscj0"
      },
      "source": [
        "#### DUPLICATED"
      ]
    },
    {
      "cell_type": "code",
      "execution_count": 19,
      "metadata": {
        "colab": {
          "base_uri": "https://localhost:8080/"
        },
        "id": "pp-XYIc4pgwA",
        "outputId": "5d72ffbb-a99f-407b-c74a-a0ea63450eb6"
      },
      "outputs": [
        {
          "name": "stdout",
          "output_type": "stream",
          "text": [
            "geo:261831\n",
            "\n",
            "cust:0\n",
            "\n",
            "item:0\n",
            "\n",
            "payment:0\n",
            "\n",
            "order:0\n",
            "\n",
            "product:0\n",
            "\n",
            "sellers:0\n",
            "\n",
            "productCategory:0\n",
            "\n"
          ]
        }
      ],
      "source": [
        "print (f'geo:{geo.duplicated().sum()}\\n' ),\n",
        "print (f'cust:{cust.duplicated().sum()}\\n' ),\n",
        "print (f'item:{item.duplicated().sum()}\\n' ),\n",
        "print (f'payment:{payment.duplicated().sum()}\\n' ),\n",
        "print (f'order:{order.duplicated().sum()}\\n' ),\n",
        "print (f'product:{product.duplicated().sum()}\\n' ),\n",
        "print (f'sellers:{sellers.duplicated().sum()}\\n' ),\n",
        "print (f'productCategory:{productCategory.duplicated().sum()}\\n' )"
      ]
    },
    {
      "cell_type": "markdown",
      "metadata": {},
      "source": [
        "'geo' has 261,831 duplicated rows."
      ]
    },
    {
      "cell_type": "code",
      "execution_count": 21,
      "metadata": {
        "id": "waSeBJrS1kc4"
      },
      "outputs": [],
      "source": [
        "geo.drop_duplicates(inplace=True)"
      ]
    },
    {
      "cell_type": "markdown",
      "metadata": {},
      "source": [
        "#### CHECKING DUPLICATED\n"
      ]
    },
    {
      "cell_type": "code",
      "execution_count": 22,
      "metadata": {},
      "outputs": [
        {
          "name": "stdout",
          "output_type": "stream",
          "text": [
            "geo:0\n",
            "\n",
            "cust:0\n",
            "\n",
            "item:0\n",
            "\n",
            "payment:0\n",
            "\n",
            "order:0\n",
            "\n",
            "product:0\n",
            "\n",
            "sellers:0\n",
            "\n",
            "productCategory:0\n",
            "\n"
          ]
        }
      ],
      "source": [
        "print (f'geo:{geo.duplicated().sum()}\\n' ),\n",
        "print (f'cust:{cust.duplicated().sum()}\\n' ),\n",
        "print (f'item:{item.duplicated().sum()}\\n' ),\n",
        "print (f'payment:{payment.duplicated().sum()}\\n' ),\n",
        "print (f'order:{order.duplicated().sum()}\\n' ),\n",
        "print (f'product:{product.duplicated().sum()}\\n' ),\n",
        "print (f'sellers:{sellers.duplicated().sum()}\\n' ),\n",
        "print (f'productCategory:{productCategory.duplicated().sum()}\\n' )"
      ]
    },
    {
      "cell_type": "markdown",
      "metadata": {
        "id": "Blu0oOLfkNz8"
      },
      "source": [
        "### EDA"
      ]
    },
    {
      "cell_type": "markdown",
      "metadata": {
        "id": "ET1CYZUK54ee"
      },
      "source": [
        "#### Customer Distribution"
      ]
    },
    {
      "cell_type": "code",
      "execution_count": null,
      "metadata": {},
      "outputs": [],
      "source": [
        "custgeo = cust.merge(geo, how='left', left_on='customer_zip_code_prefix', right_on='geolocation_zip_code_prefix')\n",
        "print(custgeo.shape)\n",
        "custgeo.head()\n"
      ]
    },
    {
      "cell_type": "code",
      "execution_count": null,
      "metadata": {},
      "outputs": [],
      "source": [
        "nsample = 99441\n",
        "resultSample = custgeo.sample(n=nsample)\n",
        "custgeo = resultSample\n",
        "print(custgeo.shape)\n",
        "custgeo.head()"
      ]
    },
    {
      "cell_type": "markdown",
      "metadata": {},
      "source": [
        "In this step, I am merging customer data with geolocation data based on postal codes, aiming to observe the geographic distribution of customers. Then, I am taking a random sample of 99,441 rows to suit the needs of creating a dashboard displaying customer locations based on latitude and longitude. This allows for a representative visualization of the geographic distribution of customers on the dashboard."
      ]
    },
    {
      "cell_type": "code",
      "execution_count": null,
      "metadata": {},
      "outputs": [],
      "source": [
        "sellergeo = sellers.merge(geo, how='left', left_on = 'seller_zip_code_prefix', right_on = 'geolocation_zip_code_prefix')\n",
        "print(sellergeo.shape)\n",
        "sellergeo.head()\n",
        "nsellersample = 3095\n",
        "sellerGeoDataset = sellergeo.sample(n=nsellersample)\n",
        "print(sellerGeoDataset.shape)\n",
        "\n",
        "print(sellerGeoDataset.info())\n"
      ]
    },
    {
      "cell_type": "markdown",
      "metadata": {},
      "source": [
        "In this step, we merge seller data with geolocation data based on postal codes, similar to the previous process for customer data. The objective is to observe the geographic distribution of sellers. Then, we take a random sample of 3,095 rows to fit the requirements for creating a dashboard displaying seller locations based on latitude and longitude. This allows for a representative visualization of the geographic distribution of sellers on the dashboard."
      ]
    },
    {
      "cell_type": "markdown",
      "metadata": {
        "id": "wiS92MndvgMw"
      },
      "source": [
        "##### City and State"
      ]
    },
    {
      "cell_type": "code",
      "execution_count": 20,
      "metadata": {},
      "outputs": [
        {
          "data": {
            "text/plain": [
              "(customer_city\n",
              " sao paulo                15540\n",
              " rio de janeiro            6882\n",
              " belo horizonte            2773\n",
              " brasilia                  2131\n",
              " curitiba                  1521\n",
              " campinas                  1444\n",
              " porto alegre              1379\n",
              " salvador                  1245\n",
              " guarulhos                 1189\n",
              " sao bernardo do campo      938\n",
              " Name: count, dtype: int64,\n",
              " customer_state\n",
              " SP    41746\n",
              " RJ    12852\n",
              " MG    11635\n",
              " RS     5466\n",
              " PR     5045\n",
              " SC     3637\n",
              " BA     3380\n",
              " DF     2140\n",
              " ES     2033\n",
              " GO     2020\n",
              " Name: count, dtype: int64)"
            ]
          },
          "execution_count": 20,
          "metadata": {},
          "output_type": "execute_result"
        }
      ],
      "source": [
        "custCity = cust['customer_city'].value_counts(ascending=False).head(10)\n",
        "custState = cust['customer_state'].value_counts(ascending=False).head(10)\n",
        "custCity,custState"
      ]
    },
    {
      "cell_type": "markdown",
      "metadata": {},
      "source": [
        "In this step, I want to analyze customer data based on city and state to identify the top 10 cities and top 10 states with the highest number of customers.\n",
        "\n",
        "Insight: São Paulo emerges as the city and state with the highest number of customers."
      ]
    },
    {
      "cell_type": "code",
      "execution_count": 27,
      "metadata": {},
      "outputs": [],
      "source": [
        "def barChart(data, x=None, y=None, ylabel=None, xlabel=None, title=None, hue=None):\n",
        "    plt.figure(figsize=(10,5))\n",
        "    sns.barplot(data=data, x=x, y=y, hue=hue)\n",
        "    plt.title(title)\n",
        "    plt.ylabel(ylabel)\n",
        "    plt.xlabel(xlabel)\n",
        "    plt.xticks(rotation=45)\n",
        "    plt.legend([], frameon=False) \n",
        "    plt.show()\n",
        "\n",
        "\n",
        "def barChartSubplot(data1, data2, x1=None, y1=None, x2=None, y2=None, title1=None, title2=None, palette1='viridis', palette2='bright', figsize=(15,5)):\n",
        "\n",
        "    #subplot1\n",
        "    plt.figure(figsize=figsize)\n",
        "    plt.subplot(1,2,1)\n",
        "    sns.barplot(data = data1, x=x1, y=y1, palette=palette1)\n",
        "    plt.title(title1)\n",
        "    plt.xticks(rotation=45)\n",
        "\n",
        "\n",
        "    #subplot2\n",
        "    plt.subplot(1,2,2)\n",
        "    sns.barplot(data = data2, x=x2, y=y2, palette=palette2)\n",
        "    plt.title(title2)\n",
        "    plt.xticks(rotation=45)\n",
        "\n",
        "    plt.tight_layout()\n",
        "    plt.show()\n",
        "\n",
        "\n",
        "def histChart (data, x=None, y=None, title=None, palette = 'viridis'):\n",
        "    plt.figure(figsize=(10,5))\n",
        "    sns.histplot(data=data, x=x, y=y, palette=palette)\n",
        "    plt.title(title)\n",
        "    plt.xticks(rotation = 45)\n",
        "    plt.show()\n",
        "\n",
        "\n",
        "def histChartSubplot(data1, data2, x1=None, y1=None, x2=None, y2=None, xlabel1=None, ylabel1 = None, xlabel2=None, ylabel2=None, title1=None, title2=None, palette1='bright', palette2='colorblind'):\n",
        "\n",
        "    #subplot1\n",
        "    plt.figure(figsize=(15,5))\n",
        "    plt.subplot(1,2,1)\n",
        "    sns.histplot(data = data1, x=x1, y=y1, palette=palette1)\n",
        "    plt.xlabel(xlabel1)\n",
        "    plt.ylabel(ylabel1)\n",
        "    plt.title(title1)\n",
        "    plt.xticks(rotation=45)\n",
        "\n",
        "\n",
        "    #subplot2\n",
        "    ax2 = plt.subplot(1,2,2)\n",
        "    sns.barplot(data = data2, x=x2, y=y2, palette=palette2)\n",
        "    plt.xlabel(xlabel2)\n",
        "    plt.ylabel(ylabel2)\n",
        "    plt.title(title2)\n",
        "    plt.xticks(rotation=45)\n",
        "\n",
        "    plt.tight_layout()\n",
        "    plt.show()\n",
        "\n",
        "def pieChart(data, explode=None, title=None):\n",
        "    plt.figure(figsize=(15, 5))\n",
        "    plt.pie(data, autopct='%1.1f%%', explode=explode, startangle=140)\n",
        "    plt.title(title)\n",
        "    plt.legend(data.index)\n",
        "    plt.show()"
      ]
    },
    {
      "cell_type": "markdown",
      "metadata": {},
      "source": [
        "These functions are intended to facilitate data visualization later on, including bar charts, histograms, and pie charts. These functions allow users to specify titles, axis labels, and customizable color palettes to suit their needs."
      ]
    },
    {
      "cell_type": "code",
      "execution_count": 30,
      "metadata": {},
      "outputs": [
        {
          "data": {
            "image/png": "[encoded data removed]",
            "text/plain": [
              "<Figure size 1500x500 with 2 Axes>"
            ]
          },
          "metadata": {},
          "output_type": "display_data"
        }
      ],
      "source": [
        "barChartSubplot(custCity, custState)"
      ]
    },
    {
      "cell_type": "code",
      "execution_count": 29,
      "metadata": {
        "id": "o8sAVAvKwmcx"
      },
      "outputs": [
        {
          "data": {
            "text/html": [
              "<div>\n",
              "<style scoped>\n",
              "    .dataframe tbody tr th:only-of-type {\n",
              "        vertical-align: middle;\n",
              "    }\n",
              "\n",
              "    .dataframe tbody tr th {\n",
              "        vertical-align: top;\n",
              "    }\n",
              "\n",
              "    .dataframe thead th {\n",
              "        text-align: right;\n",
              "    }\n",
              "</style>\n",
              "<table border=\"1\" class=\"dataframe\">\n",
              "  <thead>\n",
              "    <tr style=\"text-align: right;\">\n",
              "      <th></th>\n",
              "      <th>customer_id</th>\n",
              "      <th>customer_unique_id</th>\n",
              "      <th>customer_zip_code_prefix</th>\n",
              "      <th>customer_city</th>\n",
              "      <th>customer_state</th>\n",
              "    </tr>\n",
              "  </thead>\n",
              "  <tbody>\n",
              "    <tr>\n",
              "      <th>0</th>\n",
              "      <td>06b8999e2fba1a1fbc88172c00ba8bc7</td>\n",
              "      <td>861eff4711a542e4b93843c6dd7febb0</td>\n",
              "      <td>14409</td>\n",
              "      <td>franca</td>\n",
              "      <td>SP</td>\n",
              "    </tr>\n",
              "    <tr>\n",
              "      <th>1</th>\n",
              "      <td>18955e83d337fd6b2def6b18a428ac77</td>\n",
              "      <td>290c77bc529b7ac935b93aa66c333dc3</td>\n",
              "      <td>9790</td>\n",
              "      <td>sao bernardo do campo</td>\n",
              "      <td>SP</td>\n",
              "    </tr>\n",
              "    <tr>\n",
              "      <th>2</th>\n",
              "      <td>4e7b3e00288586ebd08712fdd0374a03</td>\n",
              "      <td>060e732b5b29e8181a18229c7b0b2b5e</td>\n",
              "      <td>1151</td>\n",
              "      <td>sao paulo</td>\n",
              "      <td>SP</td>\n",
              "    </tr>\n",
              "    <tr>\n",
              "      <th>3</th>\n",
              "      <td>b2b6027bc5c5109e529d4dc6358b12c3</td>\n",
              "      <td>259dac757896d24d7702b9acbbff3f3c</td>\n",
              "      <td>8775</td>\n",
              "      <td>mogi das cruzes</td>\n",
              "      <td>SP</td>\n",
              "    </tr>\n",
              "    <tr>\n",
              "      <th>4</th>\n",
              "      <td>4f2d8ab171c80ec8364f7c12e35b23ad</td>\n",
              "      <td>345ecd01c38d18a9036ed96c73b8d066</td>\n",
              "      <td>13056</td>\n",
              "      <td>campinas</td>\n",
              "      <td>SP</td>\n",
              "    </tr>\n",
              "  </tbody>\n",
              "</table>\n",
              "</div>"
            ],
            "text/plain": [
              "                        customer_id                customer_unique_id  \\\n",
              "0  06b8999e2fba1a1fbc88172c00ba8bc7  861eff4711a542e4b93843c6dd7febb0   \n",
              "1  18955e83d337fd6b2def6b18a428ac77  290c77bc529b7ac935b93aa66c333dc3   \n",
              "2  4e7b3e00288586ebd08712fdd0374a03  060e732b5b29e8181a18229c7b0b2b5e   \n",
              "3  b2b6027bc5c5109e529d4dc6358b12c3  259dac757896d24d7702b9acbbff3f3c   \n",
              "4  4f2d8ab171c80ec8364f7c12e35b23ad  345ecd01c38d18a9036ed96c73b8d066   \n",
              "\n",
              "   customer_zip_code_prefix          customer_city customer_state  \n",
              "0                     14409                 franca             SP  \n",
              "1                      9790  sao bernardo do campo             SP  \n",
              "2                      1151              sao paulo             SP  \n",
              "3                      8775        mogi das cruzes             SP  \n",
              "4                     13056               campinas             SP  "
            ]
          },
          "execution_count": 29,
          "metadata": {},
          "output_type": "execute_result"
        }
      ],
      "source": [
        "cust.head()"
      ]
    },
    {
      "cell_type": "markdown",
      "metadata": {},
      "source": [
        "### ITEM, ORDER, PRODUCT, & PAYMENT"
      ]
    },
    {
      "cell_type": "code",
      "execution_count": 30,
      "metadata": {},
      "outputs": [
        {
          "name": "stdout",
          "output_type": "stream",
          "text": [
            "order: (99441, 8)\n",
            "order: Index(['order_id', 'customer_id', 'order_status', 'order_purchase_timestamp',\n",
            "       'order_approved_at', 'order_delivered_carrier_date',\n",
            "       'order_delivered_customer_date', 'order_estimated_delivery_date'],\n",
            "      dtype='object')\n",
            "item: (112650, 7)\n",
            "item: Index(['order_id', 'order_item_id', 'product_id', 'seller_id',\n",
            "       'shipping_limit_date', 'price', 'freight_value'],\n",
            "      dtype='object')\n",
            "product: (32328, 10)\n",
            "product: Index(['product_id', 'product_category_name', 'product_name_lenght',\n",
            "       'product_description_lenght', 'product_photos_qty', 'product_weight_g',\n",
            "       'product_length_cm', 'product_height_cm', 'product_width_cm',\n",
            "       'product_category_name_english'],\n",
            "      dtype='object')\n"
          ]
        }
      ],
      "source": [
        "print('order:',order.shape)\n",
        "print('order:',order.columns)\n",
        "print('item:',item.shape)\n",
        "print('item:',item.columns)\n",
        "print('product:', product.shape)\n",
        "print('product:', product.columns)"
      ]
    },
    {
      "cell_type": "markdown",
      "metadata": {},
      "source": [
        "##### Merging and Creating new Columns\n"
      ]
    },
    {
      "cell_type": "markdown",
      "metadata": {},
      "source": [
        "This stage is the stage where several datasets are combined to dig deeper insights\n"
      ]
    },
    {
      "cell_type": "markdown",
      "metadata": {},
      "source": [
        "##### Time Order\n"
      ]
    },
    {
      "cell_type": "code",
      "execution_count": 32,
      "metadata": {},
      "outputs": [
        {
          "name": "stdout",
          "output_type": "stream",
          "text": [
            "(112650, 14)\n"
          ]
        },
        {
          "data": {
            "text/html": [
              "<div>\n",
              "<style scoped>\n",
              "    .dataframe tbody tr th:only-of-type {\n",
              "        vertical-align: middle;\n",
              "    }\n",
              "\n",
              "    .dataframe tbody tr th {\n",
              "        vertical-align: top;\n",
              "    }\n",
              "\n",
              "    .dataframe thead th {\n",
              "        text-align: right;\n",
              "    }\n",
              "</style>\n",
              "<table border=\"1\" class=\"dataframe\">\n",
              "  <thead>\n",
              "    <tr style=\"text-align: right;\">\n",
              "      <th></th>\n",
              "      <th>order_id</th>\n",
              "      <th>customer_id</th>\n",
              "      <th>order_status</th>\n",
              "      <th>order_purchase_timestamp</th>\n",
              "      <th>order_approved_at</th>\n",
              "      <th>order_delivered_carrier_date</th>\n",
              "      <th>order_delivered_customer_date</th>\n",
              "      <th>order_estimated_delivery_date</th>\n",
              "      <th>order_item_id</th>\n",
              "      <th>product_id</th>\n",
              "      <th>seller_id</th>\n",
              "      <th>shipping_limit_date</th>\n",
              "      <th>price</th>\n",
              "      <th>freight_value</th>\n",
              "    </tr>\n",
              "  </thead>\n",
              "  <tbody>\n",
              "    <tr>\n",
              "      <th>0</th>\n",
              "      <td>e481f51cbdc54678b7cc49136f2d6af7</td>\n",
              "      <td>9ef432eb6251297304e76186b10a928d</td>\n",
              "      <td>delivered</td>\n",
              "      <td>2017-10-02 10:56:33</td>\n",
              "      <td>2017-10-02 11:07:15</td>\n",
              "      <td>2017-10-04 19:55:00</td>\n",
              "      <td>2017-10-10 21:25:13</td>\n",
              "      <td>2017-10-18</td>\n",
              "      <td>1</td>\n",
              "      <td>87285b34884572647811a353c7ac498a</td>\n",
              "      <td>3504c0cb71d7fa48d967e0e4c94d59d9</td>\n",
              "      <td>2017-10-06 11:07:15</td>\n",
              "      <td>29.99</td>\n",
              "      <td>8.72</td>\n",
              "    </tr>\n",
              "    <tr>\n",
              "      <th>1</th>\n",
              "      <td>53cdb2fc8bc7dce0b6741e2150273451</td>\n",
              "      <td>b0830fb4747a6c6d20dea0b8c802d7ef</td>\n",
              "      <td>delivered</td>\n",
              "      <td>2018-07-24 20:41:37</td>\n",
              "      <td>2018-07-26 03:24:27</td>\n",
              "      <td>2018-07-26 14:31:00</td>\n",
              "      <td>2018-08-07 15:27:45</td>\n",
              "      <td>2018-08-13</td>\n",
              "      <td>1</td>\n",
              "      <td>595fac2a385ac33a80bd5114aec74eb8</td>\n",
              "      <td>289cdb325fb7e7f891c38608bf9e0962</td>\n",
              "      <td>2018-07-30 03:24:27</td>\n",
              "      <td>118.70</td>\n",
              "      <td>22.76</td>\n",
              "    </tr>\n",
              "    <tr>\n",
              "      <th>2</th>\n",
              "      <td>47770eb9100c2d0c44946d9cf07ec65d</td>\n",
              "      <td>41ce2a54c0b03bf3443c3d931a367089</td>\n",
              "      <td>delivered</td>\n",
              "      <td>2018-08-08 08:38:49</td>\n",
              "      <td>2018-08-08 08:55:23</td>\n",
              "      <td>2018-08-08 13:50:00</td>\n",
              "      <td>2018-08-17 18:06:29</td>\n",
              "      <td>2018-09-04</td>\n",
              "      <td>1</td>\n",
              "      <td>aa4383b373c6aca5d8797843e5594415</td>\n",
              "      <td>4869f7a5dfa277a7dca6462dcf3b52b2</td>\n",
              "      <td>2018-08-13 08:55:23</td>\n",
              "      <td>159.90</td>\n",
              "      <td>19.22</td>\n",
              "    </tr>\n",
              "    <tr>\n",
              "      <th>3</th>\n",
              "      <td>949d5b44dbf5de918fe9c16f97b45f8a</td>\n",
              "      <td>f88197465ea7920adcdbec7375364d82</td>\n",
              "      <td>delivered</td>\n",
              "      <td>2017-11-18 19:28:06</td>\n",
              "      <td>2017-11-18 19:45:59</td>\n",
              "      <td>2017-11-22 13:39:59</td>\n",
              "      <td>2017-12-02 00:28:42</td>\n",
              "      <td>2017-12-15</td>\n",
              "      <td>1</td>\n",
              "      <td>d0b61bfb1de832b15ba9d266ca96e5b0</td>\n",
              "      <td>66922902710d126a0e7d26b0e3805106</td>\n",
              "      <td>2017-11-23 19:45:59</td>\n",
              "      <td>45.00</td>\n",
              "      <td>27.20</td>\n",
              "    </tr>\n",
              "    <tr>\n",
              "      <th>4</th>\n",
              "      <td>ad21c59c0840e6cb83a9ceb5573f8159</td>\n",
              "      <td>8ab97904e6daea8866dbdbc4fb7aad2c</td>\n",
              "      <td>delivered</td>\n",
              "      <td>2018-02-13 21:18:39</td>\n",
              "      <td>2018-02-13 22:20:29</td>\n",
              "      <td>2018-02-14 19:46:34</td>\n",
              "      <td>2018-02-16 18:17:02</td>\n",
              "      <td>2018-02-26</td>\n",
              "      <td>1</td>\n",
              "      <td>65266b2da20d04dbe00c5c2d3bb7859e</td>\n",
              "      <td>2c9e548be18521d1c43cde1c582c6de8</td>\n",
              "      <td>2018-02-19 20:31:37</td>\n",
              "      <td>19.90</td>\n",
              "      <td>8.72</td>\n",
              "    </tr>\n",
              "  </tbody>\n",
              "</table>\n",
              "</div>"
            ],
            "text/plain": [
              "                           order_id                       customer_id  \\\n",
              "0  e481f51cbdc54678b7cc49136f2d6af7  9ef432eb6251297304e76186b10a928d   \n",
              "1  53cdb2fc8bc7dce0b6741e2150273451  b0830fb4747a6c6d20dea0b8c802d7ef   \n",
              "2  47770eb9100c2d0c44946d9cf07ec65d  41ce2a54c0b03bf3443c3d931a367089   \n",
              "3  949d5b44dbf5de918fe9c16f97b45f8a  f88197465ea7920adcdbec7375364d82   \n",
              "4  ad21c59c0840e6cb83a9ceb5573f8159  8ab97904e6daea8866dbdbc4fb7aad2c   \n",
              "\n",
              "  order_status order_purchase_timestamp   order_approved_at  \\\n",
              "0    delivered      2017-10-02 10:56:33 2017-10-02 11:07:15   \n",
              "1    delivered      2018-07-24 20:41:37 2018-07-26 03:24:27   \n",
              "2    delivered      2018-08-08 08:38:49 2018-08-08 08:55:23   \n",
              "3    delivered      2017-11-18 19:28:06 2017-11-18 19:45:59   \n",
              "4    delivered      2018-02-13 21:18:39 2018-02-13 22:20:29   \n",
              "\n",
              "  order_delivered_carrier_date order_delivered_customer_date  \\\n",
              "0          2017-10-04 19:55:00           2017-10-10 21:25:13   \n",
              "1          2018-07-26 14:31:00           2018-08-07 15:27:45   \n",
              "2          2018-08-08 13:50:00           2018-08-17 18:06:29   \n",
              "3          2017-11-22 13:39:59           2017-12-02 00:28:42   \n",
              "4          2018-02-14 19:46:34           2018-02-16 18:17:02   \n",
              "\n",
              "  order_estimated_delivery_date  order_item_id  \\\n",
              "0                    2017-10-18              1   \n",
              "1                    2018-08-13              1   \n",
              "2                    2018-09-04              1   \n",
              "3                    2017-12-15              1   \n",
              "4                    2018-02-26              1   \n",
              "\n",
              "                         product_id                         seller_id  \\\n",
              "0  87285b34884572647811a353c7ac498a  3504c0cb71d7fa48d967e0e4c94d59d9   \n",
              "1  595fac2a385ac33a80bd5114aec74eb8  289cdb325fb7e7f891c38608bf9e0962   \n",
              "2  aa4383b373c6aca5d8797843e5594415  4869f7a5dfa277a7dca6462dcf3b52b2   \n",
              "3  d0b61bfb1de832b15ba9d266ca96e5b0  66922902710d126a0e7d26b0e3805106   \n",
              "4  65266b2da20d04dbe00c5c2d3bb7859e  2c9e548be18521d1c43cde1c582c6de8   \n",
              "\n",
              "  shipping_limit_date   price  freight_value  \n",
              "0 2017-10-06 11:07:15   29.99           8.72  \n",
              "1 2018-07-30 03:24:27  118.70          22.76  \n",
              "2 2018-08-13 08:55:23  159.90          19.22  \n",
              "3 2017-11-23 19:45:59   45.00          27.20  \n",
              "4 2018-02-19 20:31:37   19.90           8.72  "
            ]
          },
          "execution_count": 32,
          "metadata": {},
          "output_type": "execute_result"
        }
      ],
      "source": [
        "\n",
        "orderItem = order.merge(item, how='inner', on ='order_id')\n",
        "print(orderItem.shape)\n",
        "orderItem.head()"
      ]
    },
    {
      "cell_type": "code",
      "execution_count": 33,
      "metadata": {},
      "outputs": [
        {
          "name": "stdout",
          "output_type": "stream",
          "text": [
            "(112650, 15)\n"
          ]
        },
        {
          "data": {
            "text/html": [
              "<div>\n",
              "<style scoped>\n",
              "    .dataframe tbody tr th:only-of-type {\n",
              "        vertical-align: middle;\n",
              "    }\n",
              "\n",
              "    .dataframe tbody tr th {\n",
              "        vertical-align: top;\n",
              "    }\n",
              "\n",
              "    .dataframe thead th {\n",
              "        text-align: right;\n",
              "    }\n",
              "</style>\n",
              "<table border=\"1\" class=\"dataframe\">\n",
              "  <thead>\n",
              "    <tr style=\"text-align: right;\">\n",
              "      <th></th>\n",
              "      <th>order_id</th>\n",
              "      <th>customer_id</th>\n",
              "      <th>order_status</th>\n",
              "      <th>order_purchase_timestamp</th>\n",
              "      <th>order_approved_at</th>\n",
              "      <th>order_delivered_carrier_date</th>\n",
              "      <th>order_delivered_customer_date</th>\n",
              "      <th>order_estimated_delivery_date</th>\n",
              "      <th>order_item_id</th>\n",
              "      <th>product_id</th>\n",
              "      <th>seller_id</th>\n",
              "      <th>shipping_limit_date</th>\n",
              "      <th>price</th>\n",
              "      <th>freight_value</th>\n",
              "      <th>Order in Procces in day</th>\n",
              "    </tr>\n",
              "  </thead>\n",
              "  <tbody>\n",
              "    <tr>\n",
              "      <th>0</th>\n",
              "      <td>e481f51cbdc54678b7cc49136f2d6af7</td>\n",
              "      <td>9ef432eb6251297304e76186b10a928d</td>\n",
              "      <td>delivered</td>\n",
              "      <td>2017-10-02 10:56:33</td>\n",
              "      <td>2017-10-02 11:07:15</td>\n",
              "      <td>2017-10-04 19:55:00</td>\n",
              "      <td>2017-10-10 21:25:13</td>\n",
              "      <td>2017-10-18</td>\n",
              "      <td>1</td>\n",
              "      <td>87285b34884572647811a353c7ac498a</td>\n",
              "      <td>3504c0cb71d7fa48d967e0e4c94d59d9</td>\n",
              "      <td>2017-10-06 11:07:15</td>\n",
              "      <td>29.99</td>\n",
              "      <td>8.72</td>\n",
              "      <td>2</td>\n",
              "    </tr>\n",
              "    <tr>\n",
              "      <th>1</th>\n",
              "      <td>53cdb2fc8bc7dce0b6741e2150273451</td>\n",
              "      <td>b0830fb4747a6c6d20dea0b8c802d7ef</td>\n",
              "      <td>delivered</td>\n",
              "      <td>2018-07-24 20:41:37</td>\n",
              "      <td>2018-07-26 03:24:27</td>\n",
              "      <td>2018-07-26 14:31:00</td>\n",
              "      <td>2018-08-07 15:27:45</td>\n",
              "      <td>2018-08-13</td>\n",
              "      <td>1</td>\n",
              "      <td>595fac2a385ac33a80bd5114aec74eb8</td>\n",
              "      <td>289cdb325fb7e7f891c38608bf9e0962</td>\n",
              "      <td>2018-07-30 03:24:27</td>\n",
              "      <td>118.70</td>\n",
              "      <td>22.76</td>\n",
              "      <td>0</td>\n",
              "    </tr>\n",
              "    <tr>\n",
              "      <th>2</th>\n",
              "      <td>47770eb9100c2d0c44946d9cf07ec65d</td>\n",
              "      <td>41ce2a54c0b03bf3443c3d931a367089</td>\n",
              "      <td>delivered</td>\n",
              "      <td>2018-08-08 08:38:49</td>\n",
              "      <td>2018-08-08 08:55:23</td>\n",
              "      <td>2018-08-08 13:50:00</td>\n",
              "      <td>2018-08-17 18:06:29</td>\n",
              "      <td>2018-09-04</td>\n",
              "      <td>1</td>\n",
              "      <td>aa4383b373c6aca5d8797843e5594415</td>\n",
              "      <td>4869f7a5dfa277a7dca6462dcf3b52b2</td>\n",
              "      <td>2018-08-13 08:55:23</td>\n",
              "      <td>159.90</td>\n",
              "      <td>19.22</td>\n",
              "      <td>0</td>\n",
              "    </tr>\n",
              "    <tr>\n",
              "      <th>3</th>\n",
              "      <td>949d5b44dbf5de918fe9c16f97b45f8a</td>\n",
              "      <td>f88197465ea7920adcdbec7375364d82</td>\n",
              "      <td>delivered</td>\n",
              "      <td>2017-11-18 19:28:06</td>\n",
              "      <td>2017-11-18 19:45:59</td>\n",
              "      <td>2017-11-22 13:39:59</td>\n",
              "      <td>2017-12-02 00:28:42</td>\n",
              "      <td>2017-12-15</td>\n",
              "      <td>1</td>\n",
              "      <td>d0b61bfb1de832b15ba9d266ca96e5b0</td>\n",
              "      <td>66922902710d126a0e7d26b0e3805106</td>\n",
              "      <td>2017-11-23 19:45:59</td>\n",
              "      <td>45.00</td>\n",
              "      <td>27.20</td>\n",
              "      <td>4</td>\n",
              "    </tr>\n",
              "    <tr>\n",
              "      <th>4</th>\n",
              "      <td>ad21c59c0840e6cb83a9ceb5573f8159</td>\n",
              "      <td>8ab97904e6daea8866dbdbc4fb7aad2c</td>\n",
              "      <td>delivered</td>\n",
              "      <td>2018-02-13 21:18:39</td>\n",
              "      <td>2018-02-13 22:20:29</td>\n",
              "      <td>2018-02-14 19:46:34</td>\n",
              "      <td>2018-02-16 18:17:02</td>\n",
              "      <td>2018-02-26</td>\n",
              "      <td>1</td>\n",
              "      <td>65266b2da20d04dbe00c5c2d3bb7859e</td>\n",
              "      <td>2c9e548be18521d1c43cde1c582c6de8</td>\n",
              "      <td>2018-02-19 20:31:37</td>\n",
              "      <td>19.90</td>\n",
              "      <td>8.72</td>\n",
              "      <td>1</td>\n",
              "    </tr>\n",
              "  </tbody>\n",
              "</table>\n",
              "</div>"
            ],
            "text/plain": [
              "                           order_id                       customer_id  \\\n",
              "0  e481f51cbdc54678b7cc49136f2d6af7  9ef432eb6251297304e76186b10a928d   \n",
              "1  53cdb2fc8bc7dce0b6741e2150273451  b0830fb4747a6c6d20dea0b8c802d7ef   \n",
              "2  47770eb9100c2d0c44946d9cf07ec65d  41ce2a54c0b03bf3443c3d931a367089   \n",
              "3  949d5b44dbf5de918fe9c16f97b45f8a  f88197465ea7920adcdbec7375364d82   \n",
              "4  ad21c59c0840e6cb83a9ceb5573f8159  8ab97904e6daea8866dbdbc4fb7aad2c   \n",
              "\n",
              "  order_status order_purchase_timestamp   order_approved_at  \\\n",
              "0    delivered      2017-10-02 10:56:33 2017-10-02 11:07:15   \n",
              "1    delivered      2018-07-24 20:41:37 2018-07-26 03:24:27   \n",
              "2    delivered      2018-08-08 08:38:49 2018-08-08 08:55:23   \n",
              "3    delivered      2017-11-18 19:28:06 2017-11-18 19:45:59   \n",
              "4    delivered      2018-02-13 21:18:39 2018-02-13 22:20:29   \n",
              "\n",
              "  order_delivered_carrier_date order_delivered_customer_date  \\\n",
              "0          2017-10-04 19:55:00           2017-10-10 21:25:13   \n",
              "1          2018-07-26 14:31:00           2018-08-07 15:27:45   \n",
              "2          2018-08-08 13:50:00           2018-08-17 18:06:29   \n",
              "3          2017-11-22 13:39:59           2017-12-02 00:28:42   \n",
              "4          2018-02-14 19:46:34           2018-02-16 18:17:02   \n",
              "\n",
              "  order_estimated_delivery_date  order_item_id  \\\n",
              "0                    2017-10-18              1   \n",
              "1                    2018-08-13              1   \n",
              "2                    2018-09-04              1   \n",
              "3                    2017-12-15              1   \n",
              "4                    2018-02-26              1   \n",
              "\n",
              "                         product_id                         seller_id  \\\n",
              "0  87285b34884572647811a353c7ac498a  3504c0cb71d7fa48d967e0e4c94d59d9   \n",
              "1  595fac2a385ac33a80bd5114aec74eb8  289cdb325fb7e7f891c38608bf9e0962   \n",
              "2  aa4383b373c6aca5d8797843e5594415  4869f7a5dfa277a7dca6462dcf3b52b2   \n",
              "3  d0b61bfb1de832b15ba9d266ca96e5b0  66922902710d126a0e7d26b0e3805106   \n",
              "4  65266b2da20d04dbe00c5c2d3bb7859e  2c9e548be18521d1c43cde1c582c6de8   \n",
              "\n",
              "  shipping_limit_date   price  freight_value  Order in Procces in day  \n",
              "0 2017-10-06 11:07:15   29.99           8.72                        2  \n",
              "1 2018-07-30 03:24:27  118.70          22.76                        0  \n",
              "2 2018-08-13 08:55:23  159.90          19.22                        0  \n",
              "3 2017-11-23 19:45:59   45.00          27.20                        4  \n",
              "4 2018-02-19 20:31:37   19.90           8.72                        1  "
            ]
          },
          "execution_count": 33,
          "metadata": {},
          "output_type": "execute_result"
        }
      ],
      "source": [
        "orderItem['Order in Procces in day'] = orderItem['order_delivered_carrier_date'].dt.day - orderItem['order_approved_at'].dt.day \n",
        "\n",
        "print(orderItem.shape)\n",
        "orderItem.head()"
      ]
    },
    {
      "cell_type": "markdown",
      "metadata": {},
      "source": [
        "To see how long an order takes to process from the start after ordering, we create a new column to see this more clearly in the Order in Process in day column."
      ]
    },
    {
      "cell_type": "code",
      "execution_count": 34,
      "metadata": {},
      "outputs": [],
      "source": [
        "orderItem['Day Delivered Customer'] = orderItem['order_delivered_customer_date'].dt.day - orderItem['order_purchase_timestamp'].dt.day"
      ]
    },
    {
      "cell_type": "markdown",
      "metadata": {},
      "source": [
        "Create a new column to see how long it takes for orders to reach customers with the name Day Delivered Customer"
      ]
    },
    {
      "cell_type": "code",
      "execution_count": 35,
      "metadata": {},
      "outputs": [],
      "source": [
        "orderItem['Variance Time'] = orderItem['order_delivered_customer_date'].dt.day - orderItem['order_estimated_delivery_date'].dt.day"
      ]
    },
    {
      "cell_type": "markdown",
      "metadata": {},
      "source": [
        "Create a new column to see the difference in days between the order received by the customer and the estimate scheduled by the seller with column Variance Time\n"
      ]
    },
    {
      "cell_type": "code",
      "execution_count": 36,
      "metadata": {},
      "outputs": [],
      "source": [
        "orderItem['Delivery Status'] = ''\n",
        "\n",
        "for i, r in orderItem.iterrows():\n",
        "  if r['order_delivered_customer_date']< r['order_estimated_delivery_date']:\n",
        "    orderItem.at[i,'Delivery Status']='Earlier'\n",
        "  elif r['order_delivered_customer_date'] == r['order_estimated_delivery_date']:\n",
        "    orderItem.at[i,'Delivery Status'] ='Ontime'\n",
        "  else:\n",
        "    orderItem.at[i,'Delivery Status']='Delay'"
      ]
    },
    {
      "cell_type": "markdown",
      "metadata": {},
      "source": [
        "Create a new column to identify whether the order arrived on time, or early, or late to the customer"
      ]
    },
    {
      "cell_type": "code",
      "execution_count": 37,
      "metadata": {},
      "outputs": [
        {
          "name": "stdout",
          "output_type": "stream",
          "text": [
            "(112650, 18)\n"
          ]
        },
        {
          "data": {
            "text/html": [
              "<div>\n",
              "<style scoped>\n",
              "    .dataframe tbody tr th:only-of-type {\n",
              "        vertical-align: middle;\n",
              "    }\n",
              "\n",
              "    .dataframe tbody tr th {\n",
              "        vertical-align: top;\n",
              "    }\n",
              "\n",
              "    .dataframe thead th {\n",
              "        text-align: right;\n",
              "    }\n",
              "</style>\n",
              "<table border=\"1\" class=\"dataframe\">\n",
              "  <thead>\n",
              "    <tr style=\"text-align: right;\">\n",
              "      <th></th>\n",
              "      <th>order_id</th>\n",
              "      <th>customer_id</th>\n",
              "      <th>order_status</th>\n",
              "      <th>order_purchase_timestamp</th>\n",
              "      <th>order_approved_at</th>\n",
              "      <th>order_delivered_carrier_date</th>\n",
              "      <th>order_delivered_customer_date</th>\n",
              "      <th>order_estimated_delivery_date</th>\n",
              "      <th>order_item_id</th>\n",
              "      <th>product_id</th>\n",
              "      <th>seller_id</th>\n",
              "      <th>shipping_limit_date</th>\n",
              "      <th>price</th>\n",
              "      <th>freight_value</th>\n",
              "      <th>Order in Procces in day</th>\n",
              "      <th>Day Delivered Customer</th>\n",
              "      <th>Variance Time</th>\n",
              "      <th>Delivery Status</th>\n",
              "    </tr>\n",
              "  </thead>\n",
              "  <tbody>\n",
              "    <tr>\n",
              "      <th>0</th>\n",
              "      <td>e481f51cbdc54678b7cc49136f2d6af7</td>\n",
              "      <td>9ef432eb6251297304e76186b10a928d</td>\n",
              "      <td>delivered</td>\n",
              "      <td>2017-10-02 10:56:33</td>\n",
              "      <td>2017-10-02 11:07:15</td>\n",
              "      <td>2017-10-04 19:55:00</td>\n",
              "      <td>2017-10-10 21:25:13</td>\n",
              "      <td>2017-10-18</td>\n",
              "      <td>1</td>\n",
              "      <td>87285b34884572647811a353c7ac498a</td>\n",
              "      <td>3504c0cb71d7fa48d967e0e4c94d59d9</td>\n",
              "      <td>2017-10-06 11:07:15</td>\n",
              "      <td>29.99</td>\n",
              "      <td>8.72</td>\n",
              "      <td>2</td>\n",
              "      <td>8</td>\n",
              "      <td>-8</td>\n",
              "      <td>Earlier</td>\n",
              "    </tr>\n",
              "    <tr>\n",
              "      <th>1</th>\n",
              "      <td>53cdb2fc8bc7dce0b6741e2150273451</td>\n",
              "      <td>b0830fb4747a6c6d20dea0b8c802d7ef</td>\n",
              "      <td>delivered</td>\n",
              "      <td>2018-07-24 20:41:37</td>\n",
              "      <td>2018-07-26 03:24:27</td>\n",
              "      <td>2018-07-26 14:31:00</td>\n",
              "      <td>2018-08-07 15:27:45</td>\n",
              "      <td>2018-08-13</td>\n",
              "      <td>1</td>\n",
              "      <td>595fac2a385ac33a80bd5114aec74eb8</td>\n",
              "      <td>289cdb325fb7e7f891c38608bf9e0962</td>\n",
              "      <td>2018-07-30 03:24:27</td>\n",
              "      <td>118.70</td>\n",
              "      <td>22.76</td>\n",
              "      <td>0</td>\n",
              "      <td>-17</td>\n",
              "      <td>-6</td>\n",
              "      <td>Earlier</td>\n",
              "    </tr>\n",
              "    <tr>\n",
              "      <th>2</th>\n",
              "      <td>47770eb9100c2d0c44946d9cf07ec65d</td>\n",
              "      <td>41ce2a54c0b03bf3443c3d931a367089</td>\n",
              "      <td>delivered</td>\n",
              "      <td>2018-08-08 08:38:49</td>\n",
              "      <td>2018-08-08 08:55:23</td>\n",
              "      <td>2018-08-08 13:50:00</td>\n",
              "      <td>2018-08-17 18:06:29</td>\n",
              "      <td>2018-09-04</td>\n",
              "      <td>1</td>\n",
              "      <td>aa4383b373c6aca5d8797843e5594415</td>\n",
              "      <td>4869f7a5dfa277a7dca6462dcf3b52b2</td>\n",
              "      <td>2018-08-13 08:55:23</td>\n",
              "      <td>159.90</td>\n",
              "      <td>19.22</td>\n",
              "      <td>0</td>\n",
              "      <td>9</td>\n",
              "      <td>13</td>\n",
              "      <td>Earlier</td>\n",
              "    </tr>\n",
              "    <tr>\n",
              "      <th>3</th>\n",
              "      <td>949d5b44dbf5de918fe9c16f97b45f8a</td>\n",
              "      <td>f88197465ea7920adcdbec7375364d82</td>\n",
              "      <td>delivered</td>\n",
              "      <td>2017-11-18 19:28:06</td>\n",
              "      <td>2017-11-18 19:45:59</td>\n",
              "      <td>2017-11-22 13:39:59</td>\n",
              "      <td>2017-12-02 00:28:42</td>\n",
              "      <td>2017-12-15</td>\n",
              "      <td>1</td>\n",
              "      <td>d0b61bfb1de832b15ba9d266ca96e5b0</td>\n",
              "      <td>66922902710d126a0e7d26b0e3805106</td>\n",
              "      <td>2017-11-23 19:45:59</td>\n",
              "      <td>45.00</td>\n",
              "      <td>27.20</td>\n",
              "      <td>4</td>\n",
              "      <td>-16</td>\n",
              "      <td>-13</td>\n",
              "      <td>Earlier</td>\n",
              "    </tr>\n",
              "    <tr>\n",
              "      <th>4</th>\n",
              "      <td>ad21c59c0840e6cb83a9ceb5573f8159</td>\n",
              "      <td>8ab97904e6daea8866dbdbc4fb7aad2c</td>\n",
              "      <td>delivered</td>\n",
              "      <td>2018-02-13 21:18:39</td>\n",
              "      <td>2018-02-13 22:20:29</td>\n",
              "      <td>2018-02-14 19:46:34</td>\n",
              "      <td>2018-02-16 18:17:02</td>\n",
              "      <td>2018-02-26</td>\n",
              "      <td>1</td>\n",
              "      <td>65266b2da20d04dbe00c5c2d3bb7859e</td>\n",
              "      <td>2c9e548be18521d1c43cde1c582c6de8</td>\n",
              "      <td>2018-02-19 20:31:37</td>\n",
              "      <td>19.90</td>\n",
              "      <td>8.72</td>\n",
              "      <td>1</td>\n",
              "      <td>3</td>\n",
              "      <td>-10</td>\n",
              "      <td>Earlier</td>\n",
              "    </tr>\n",
              "  </tbody>\n",
              "</table>\n",
              "</div>"
            ],
            "text/plain": [
              "                           order_id                       customer_id  \\\n",
              "0  e481f51cbdc54678b7cc49136f2d6af7  9ef432eb6251297304e76186b10a928d   \n",
              "1  53cdb2fc8bc7dce0b6741e2150273451  b0830fb4747a6c6d20dea0b8c802d7ef   \n",
              "2  47770eb9100c2d0c44946d9cf07ec65d  41ce2a54c0b03bf3443c3d931a367089   \n",
              "3  949d5b44dbf5de918fe9c16f97b45f8a  f88197465ea7920adcdbec7375364d82   \n",
              "4  ad21c59c0840e6cb83a9ceb5573f8159  8ab97904e6daea8866dbdbc4fb7aad2c   \n",
              "\n",
              "  order_status order_purchase_timestamp   order_approved_at  \\\n",
              "0    delivered      2017-10-02 10:56:33 2017-10-02 11:07:15   \n",
              "1    delivered      2018-07-24 20:41:37 2018-07-26 03:24:27   \n",
              "2    delivered      2018-08-08 08:38:49 2018-08-08 08:55:23   \n",
              "3    delivered      2017-11-18 19:28:06 2017-11-18 19:45:59   \n",
              "4    delivered      2018-02-13 21:18:39 2018-02-13 22:20:29   \n",
              "\n",
              "  order_delivered_carrier_date order_delivered_customer_date  \\\n",
              "0          2017-10-04 19:55:00           2017-10-10 21:25:13   \n",
              "1          2018-07-26 14:31:00           2018-08-07 15:27:45   \n",
              "2          2018-08-08 13:50:00           2018-08-17 18:06:29   \n",
              "3          2017-11-22 13:39:59           2017-12-02 00:28:42   \n",
              "4          2018-02-14 19:46:34           2018-02-16 18:17:02   \n",
              "\n",
              "  order_estimated_delivery_date  order_item_id  \\\n",
              "0                    2017-10-18              1   \n",
              "1                    2018-08-13              1   \n",
              "2                    2018-09-04              1   \n",
              "3                    2017-12-15              1   \n",
              "4                    2018-02-26              1   \n",
              "\n",
              "                         product_id                         seller_id  \\\n",
              "0  87285b34884572647811a353c7ac498a  3504c0cb71d7fa48d967e0e4c94d59d9   \n",
              "1  595fac2a385ac33a80bd5114aec74eb8  289cdb325fb7e7f891c38608bf9e0962   \n",
              "2  aa4383b373c6aca5d8797843e5594415  4869f7a5dfa277a7dca6462dcf3b52b2   \n",
              "3  d0b61bfb1de832b15ba9d266ca96e5b0  66922902710d126a0e7d26b0e3805106   \n",
              "4  65266b2da20d04dbe00c5c2d3bb7859e  2c9e548be18521d1c43cde1c582c6de8   \n",
              "\n",
              "  shipping_limit_date   price  freight_value  Order in Procces in day  \\\n",
              "0 2017-10-06 11:07:15   29.99           8.72                        2   \n",
              "1 2018-07-30 03:24:27  118.70          22.76                        0   \n",
              "2 2018-08-13 08:55:23  159.90          19.22                        0   \n",
              "3 2017-11-23 19:45:59   45.00          27.20                        4   \n",
              "4 2018-02-19 20:31:37   19.90           8.72                        1   \n",
              "\n",
              "   Day Delivered Customer  Variance Time Delivery Status  \n",
              "0                       8             -8         Earlier  \n",
              "1                     -17             -6         Earlier  \n",
              "2                       9             13         Earlier  \n",
              "3                     -16            -13         Earlier  \n",
              "4                       3            -10         Earlier  "
            ]
          },
          "execution_count": 37,
          "metadata": {},
          "output_type": "execute_result"
        }
      ],
      "source": [
        "print(orderItem.shape)\n",
        "orderItem.head()"
      ]
    },
    {
      "cell_type": "code",
      "execution_count": 39,
      "metadata": {},
      "outputs": [
        {
          "data": {
            "text/plain": [
              "Delivery Status\n",
              "Earlier    102626\n",
              "Delay       10024\n",
              "Name: count, dtype: int64"
            ]
          },
          "execution_count": 39,
          "metadata": {},
          "output_type": "execute_result"
        }
      ],
      "source": [
        "countStatus = orderItem['Delivery Status'].value_counts(ascending=False)\n",
        "countStatus"
      ]
    },
    {
      "cell_type": "markdown",
      "metadata": {},
      "source": [
        "Chart Status"
      ]
    },
    {
      "cell_type": "code",
      "execution_count": 40,
      "metadata": {},
      "outputs": [
        {
          "data": {
            "image/png": "[encoded data removed]",
            "text/plain": [
              "<Figure size 1000x500 with 1 Axes>"
            ]
          },
          "metadata": {},
          "output_type": "display_data"
        }
      ],
      "source": [
        "barChart(countStatus)"
      ]
    },
    {
      "cell_type": "markdown",
      "metadata": {},
      "source": [
        "#### Product"
      ]
    },
    {
      "cell_type": "code",
      "execution_count": 41,
      "metadata": {},
      "outputs": [
        {
          "name": "stdout",
          "output_type": "stream",
          "text": [
            "(112650, 27)\n"
          ]
        },
        {
          "data": {
            "text/html": [
              "<div>\n",
              "<style scoped>\n",
              "    .dataframe tbody tr th:only-of-type {\n",
              "        vertical-align: middle;\n",
              "    }\n",
              "\n",
              "    .dataframe tbody tr th {\n",
              "        vertical-align: top;\n",
              "    }\n",
              "\n",
              "    .dataframe thead th {\n",
              "        text-align: right;\n",
              "    }\n",
              "</style>\n",
              "<table border=\"1\" class=\"dataframe\">\n",
              "  <thead>\n",
              "    <tr style=\"text-align: right;\">\n",
              "      <th></th>\n",
              "      <th>order_id</th>\n",
              "      <th>customer_id</th>\n",
              "      <th>order_status</th>\n",
              "      <th>order_purchase_timestamp</th>\n",
              "      <th>order_approved_at</th>\n",
              "      <th>order_delivered_carrier_date</th>\n",
              "      <th>order_delivered_customer_date</th>\n",
              "      <th>order_estimated_delivery_date</th>\n",
              "      <th>order_item_id</th>\n",
              "      <th>product_id</th>\n",
              "      <th>seller_id</th>\n",
              "      <th>shipping_limit_date</th>\n",
              "      <th>price</th>\n",
              "      <th>freight_value</th>\n",
              "      <th>Order in Procces in day</th>\n",
              "      <th>Day Delivered Customer</th>\n",
              "      <th>Variance Time</th>\n",
              "      <th>Delivery Status</th>\n",
              "      <th>product_category_name</th>\n",
              "      <th>product_name_lenght</th>\n",
              "      <th>product_description_lenght</th>\n",
              "      <th>product_photos_qty</th>\n",
              "      <th>product_weight_g</th>\n",
              "      <th>product_length_cm</th>\n",
              "      <th>product_height_cm</th>\n",
              "      <th>product_width_cm</th>\n",
              "      <th>product_category_name_english</th>\n",
              "    </tr>\n",
              "  </thead>\n",
              "  <tbody>\n",
              "    <tr>\n",
              "      <th>0</th>\n",
              "      <td>e481f51cbdc54678b7cc49136f2d6af7</td>\n",
              "      <td>9ef432eb6251297304e76186b10a928d</td>\n",
              "      <td>delivered</td>\n",
              "      <td>2017-10-02 10:56:33</td>\n",
              "      <td>2017-10-02 11:07:15</td>\n",
              "      <td>2017-10-04 19:55:00</td>\n",
              "      <td>2017-10-10 21:25:13</td>\n",
              "      <td>2017-10-18</td>\n",
              "      <td>1</td>\n",
              "      <td>87285b34884572647811a353c7ac498a</td>\n",
              "      <td>3504c0cb71d7fa48d967e0e4c94d59d9</td>\n",
              "      <td>2017-10-06 11:07:15</td>\n",
              "      <td>29.99</td>\n",
              "      <td>8.72</td>\n",
              "      <td>2</td>\n",
              "      <td>8</td>\n",
              "      <td>-8</td>\n",
              "      <td>Earlier</td>\n",
              "      <td>utilidades_domesticas</td>\n",
              "      <td>40.0</td>\n",
              "      <td>268.0</td>\n",
              "      <td>4.0</td>\n",
              "      <td>500.0</td>\n",
              "      <td>19.0</td>\n",
              "      <td>8.0</td>\n",
              "      <td>13.0</td>\n",
              "      <td>housewares</td>\n",
              "    </tr>\n",
              "    <tr>\n",
              "      <th>1</th>\n",
              "      <td>53cdb2fc8bc7dce0b6741e2150273451</td>\n",
              "      <td>b0830fb4747a6c6d20dea0b8c802d7ef</td>\n",
              "      <td>delivered</td>\n",
              "      <td>2018-07-24 20:41:37</td>\n",
              "      <td>2018-07-26 03:24:27</td>\n",
              "      <td>2018-07-26 14:31:00</td>\n",
              "      <td>2018-08-07 15:27:45</td>\n",
              "      <td>2018-08-13</td>\n",
              "      <td>1</td>\n",
              "      <td>595fac2a385ac33a80bd5114aec74eb8</td>\n",
              "      <td>289cdb325fb7e7f891c38608bf9e0962</td>\n",
              "      <td>2018-07-30 03:24:27</td>\n",
              "      <td>118.70</td>\n",
              "      <td>22.76</td>\n",
              "      <td>0</td>\n",
              "      <td>-17</td>\n",
              "      <td>-6</td>\n",
              "      <td>Earlier</td>\n",
              "      <td>perfumaria</td>\n",
              "      <td>29.0</td>\n",
              "      <td>178.0</td>\n",
              "      <td>1.0</td>\n",
              "      <td>400.0</td>\n",
              "      <td>19.0</td>\n",
              "      <td>13.0</td>\n",
              "      <td>19.0</td>\n",
              "      <td>perfumery</td>\n",
              "    </tr>\n",
              "    <tr>\n",
              "      <th>2</th>\n",
              "      <td>47770eb9100c2d0c44946d9cf07ec65d</td>\n",
              "      <td>41ce2a54c0b03bf3443c3d931a367089</td>\n",
              "      <td>delivered</td>\n",
              "      <td>2018-08-08 08:38:49</td>\n",
              "      <td>2018-08-08 08:55:23</td>\n",
              "      <td>2018-08-08 13:50:00</td>\n",
              "      <td>2018-08-17 18:06:29</td>\n",
              "      <td>2018-09-04</td>\n",
              "      <td>1</td>\n",
              "      <td>aa4383b373c6aca5d8797843e5594415</td>\n",
              "      <td>4869f7a5dfa277a7dca6462dcf3b52b2</td>\n",
              "      <td>2018-08-13 08:55:23</td>\n",
              "      <td>159.90</td>\n",
              "      <td>19.22</td>\n",
              "      <td>0</td>\n",
              "      <td>9</td>\n",
              "      <td>13</td>\n",
              "      <td>Earlier</td>\n",
              "      <td>automotivo</td>\n",
              "      <td>46.0</td>\n",
              "      <td>232.0</td>\n",
              "      <td>1.0</td>\n",
              "      <td>420.0</td>\n",
              "      <td>24.0</td>\n",
              "      <td>19.0</td>\n",
              "      <td>21.0</td>\n",
              "      <td>auto</td>\n",
              "    </tr>\n",
              "    <tr>\n",
              "      <th>3</th>\n",
              "      <td>949d5b44dbf5de918fe9c16f97b45f8a</td>\n",
              "      <td>f88197465ea7920adcdbec7375364d82</td>\n",
              "      <td>delivered</td>\n",
              "      <td>2017-11-18 19:28:06</td>\n",
              "      <td>2017-11-18 19:45:59</td>\n",
              "      <td>2017-11-22 13:39:59</td>\n",
              "      <td>2017-12-02 00:28:42</td>\n",
              "      <td>2017-12-15</td>\n",
              "      <td>1</td>\n",
              "      <td>d0b61bfb1de832b15ba9d266ca96e5b0</td>\n",
              "      <td>66922902710d126a0e7d26b0e3805106</td>\n",
              "      <td>2017-11-23 19:45:59</td>\n",
              "      <td>45.00</td>\n",
              "      <td>27.20</td>\n",
              "      <td>4</td>\n",
              "      <td>-16</td>\n",
              "      <td>-13</td>\n",
              "      <td>Earlier</td>\n",
              "      <td>pet_shop</td>\n",
              "      <td>59.0</td>\n",
              "      <td>468.0</td>\n",
              "      <td>3.0</td>\n",
              "      <td>450.0</td>\n",
              "      <td>30.0</td>\n",
              "      <td>10.0</td>\n",
              "      <td>20.0</td>\n",
              "      <td>pet_shop</td>\n",
              "    </tr>\n",
              "    <tr>\n",
              "      <th>4</th>\n",
              "      <td>ad21c59c0840e6cb83a9ceb5573f8159</td>\n",
              "      <td>8ab97904e6daea8866dbdbc4fb7aad2c</td>\n",
              "      <td>delivered</td>\n",
              "      <td>2018-02-13 21:18:39</td>\n",
              "      <td>2018-02-13 22:20:29</td>\n",
              "      <td>2018-02-14 19:46:34</td>\n",
              "      <td>2018-02-16 18:17:02</td>\n",
              "      <td>2018-02-26</td>\n",
              "      <td>1</td>\n",
              "      <td>65266b2da20d04dbe00c5c2d3bb7859e</td>\n",
              "      <td>2c9e548be18521d1c43cde1c582c6de8</td>\n",
              "      <td>2018-02-19 20:31:37</td>\n",
              "      <td>19.90</td>\n",
              "      <td>8.72</td>\n",
              "      <td>1</td>\n",
              "      <td>3</td>\n",
              "      <td>-10</td>\n",
              "      <td>Earlier</td>\n",
              "      <td>papelaria</td>\n",
              "      <td>38.0</td>\n",
              "      <td>316.0</td>\n",
              "      <td>4.0</td>\n",
              "      <td>250.0</td>\n",
              "      <td>51.0</td>\n",
              "      <td>15.0</td>\n",
              "      <td>15.0</td>\n",
              "      <td>stationery</td>\n",
              "    </tr>\n",
              "  </tbody>\n",
              "</table>\n",
              "</div>"
            ],
            "text/plain": [
              "                           order_id                       customer_id  \\\n",
              "0  e481f51cbdc54678b7cc49136f2d6af7  9ef432eb6251297304e76186b10a928d   \n",
              "1  53cdb2fc8bc7dce0b6741e2150273451  b0830fb4747a6c6d20dea0b8c802d7ef   \n",
              "2  47770eb9100c2d0c44946d9cf07ec65d  41ce2a54c0b03bf3443c3d931a367089   \n",
              "3  949d5b44dbf5de918fe9c16f97b45f8a  f88197465ea7920adcdbec7375364d82   \n",
              "4  ad21c59c0840e6cb83a9ceb5573f8159  8ab97904e6daea8866dbdbc4fb7aad2c   \n",
              "\n",
              "  order_status order_purchase_timestamp   order_approved_at  \\\n",
              "0    delivered      2017-10-02 10:56:33 2017-10-02 11:07:15   \n",
              "1    delivered      2018-07-24 20:41:37 2018-07-26 03:24:27   \n",
              "2    delivered      2018-08-08 08:38:49 2018-08-08 08:55:23   \n",
              "3    delivered      2017-11-18 19:28:06 2017-11-18 19:45:59   \n",
              "4    delivered      2018-02-13 21:18:39 2018-02-13 22:20:29   \n",
              "\n",
              "  order_delivered_carrier_date order_delivered_customer_date  \\\n",
              "0          2017-10-04 19:55:00           2017-10-10 21:25:13   \n",
              "1          2018-07-26 14:31:00           2018-08-07 15:27:45   \n",
              "2          2018-08-08 13:50:00           2018-08-17 18:06:29   \n",
              "3          2017-11-22 13:39:59           2017-12-02 00:28:42   \n",
              "4          2018-02-14 19:46:34           2018-02-16 18:17:02   \n",
              "\n",
              "  order_estimated_delivery_date  order_item_id  \\\n",
              "0                    2017-10-18              1   \n",
              "1                    2018-08-13              1   \n",
              "2                    2018-09-04              1   \n",
              "3                    2017-12-15              1   \n",
              "4                    2018-02-26              1   \n",
              "\n",
              "                         product_id                         seller_id  \\\n",
              "0  87285b34884572647811a353c7ac498a  3504c0cb71d7fa48d967e0e4c94d59d9   \n",
              "1  595fac2a385ac33a80bd5114aec74eb8  289cdb325fb7e7f891c38608bf9e0962   \n",
              "2  aa4383b373c6aca5d8797843e5594415  4869f7a5dfa277a7dca6462dcf3b52b2   \n",
              "3  d0b61bfb1de832b15ba9d266ca96e5b0  66922902710d126a0e7d26b0e3805106   \n",
              "4  65266b2da20d04dbe00c5c2d3bb7859e  2c9e548be18521d1c43cde1c582c6de8   \n",
              "\n",
              "  shipping_limit_date   price  freight_value  Order in Procces in day  \\\n",
              "0 2017-10-06 11:07:15   29.99           8.72                        2   \n",
              "1 2018-07-30 03:24:27  118.70          22.76                        0   \n",
              "2 2018-08-13 08:55:23  159.90          19.22                        0   \n",
              "3 2017-11-23 19:45:59   45.00          27.20                        4   \n",
              "4 2018-02-19 20:31:37   19.90           8.72                        1   \n",
              "\n",
              "   Day Delivered Customer  Variance Time Delivery Status  \\\n",
              "0                       8             -8         Earlier   \n",
              "1                     -17             -6         Earlier   \n",
              "2                       9             13         Earlier   \n",
              "3                     -16            -13         Earlier   \n",
              "4                       3            -10         Earlier   \n",
              "\n",
              "   product_category_name  product_name_lenght  product_description_lenght  \\\n",
              "0  utilidades_domesticas                 40.0                       268.0   \n",
              "1             perfumaria                 29.0                       178.0   \n",
              "2             automotivo                 46.0                       232.0   \n",
              "3               pet_shop                 59.0                       468.0   \n",
              "4              papelaria                 38.0                       316.0   \n",
              "\n",
              "   product_photos_qty  product_weight_g  product_length_cm  product_height_cm  \\\n",
              "0                 4.0             500.0               19.0                8.0   \n",
              "1                 1.0             400.0               19.0               13.0   \n",
              "2                 1.0             420.0               24.0               19.0   \n",
              "3                 3.0             450.0               30.0               10.0   \n",
              "4                 4.0             250.0               51.0               15.0   \n",
              "\n",
              "   product_width_cm product_category_name_english  \n",
              "0              13.0                    housewares  \n",
              "1              19.0                     perfumery  \n",
              "2              21.0                          auto  \n",
              "3              20.0                      pet_shop  \n",
              "4              15.0                    stationery  "
            ]
          },
          "execution_count": 41,
          "metadata": {},
          "output_type": "execute_result"
        }
      ],
      "source": [
        "orderProduct = orderItem.merge(product, how='left',left_on ='product_id', right_on='product_id')\n",
        "print(orderProduct.shape)\n",
        "orderProduct.head()"
      ]
    },
    {
      "cell_type": "code",
      "execution_count": 42,
      "metadata": {},
      "outputs": [],
      "source": [
        "orderProduct = orderProduct.drop(columns=['product_name_lenght',\t'product_description_lenght',\t'product_photos_qty',\t'product_weight_g',\t'product_length_cm',\t'product_height_cm',\t'product_width_cm',])"
      ]
    },
    {
      "cell_type": "markdown",
      "metadata": {},
      "source": [
        "\n",
        "Discarding columns that we don't use at this stage"
      ]
    },
    {
      "cell_type": "code",
      "execution_count": 41,
      "metadata": {},
      "outputs": [
        {
          "data": {
            "text/html": [
              "<div>\n",
              "<style scoped>\n",
              "    .dataframe tbody tr th:only-of-type {\n",
              "        vertical-align: middle;\n",
              "    }\n",
              "\n",
              "    .dataframe tbody tr th {\n",
              "        vertical-align: top;\n",
              "    }\n",
              "\n",
              "    .dataframe thead th {\n",
              "        text-align: right;\n",
              "    }\n",
              "</style>\n",
              "<table border=\"1\" class=\"dataframe\">\n",
              "  <thead>\n",
              "    <tr style=\"text-align: right;\">\n",
              "      <th></th>\n",
              "      <th>count</th>\n",
              "      <th>mean</th>\n",
              "      <th>min</th>\n",
              "      <th>25%</th>\n",
              "      <th>50%</th>\n",
              "      <th>75%</th>\n",
              "      <th>max</th>\n",
              "      <th>std</th>\n",
              "    </tr>\n",
              "  </thead>\n",
              "  <tbody>\n",
              "    <tr>\n",
              "      <th>order_purchase_timestamp</th>\n",
              "      <td>112650</td>\n",
              "      <td>2018-01-01 00:09:48.464376320</td>\n",
              "      <td>2016-09-04 21:15:19</td>\n",
              "      <td>2017-09-13 19:17:04</td>\n",
              "      <td>2018-01-19 23:02:16</td>\n",
              "      <td>2018-05-04 17:30:36.750000128</td>\n",
              "      <td>2018-09-03 09:06:57</td>\n",
              "      <td>NaN</td>\n",
              "    </tr>\n",
              "    <tr>\n",
              "      <th>order_approved_at</th>\n",
              "      <td>112650</td>\n",
              "      <td>2018-01-01 12:00:01.835632384</td>\n",
              "      <td>2016-09-15 12:16:38</td>\n",
              "      <td>2017-09-14 06:45:15.249999872</td>\n",
              "      <td>2018-01-20 13:42:11.500000</td>\n",
              "      <td>2018-05-05 03:10:23</td>\n",
              "      <td>2018-09-03 17:40:06</td>\n",
              "      <td>NaN</td>\n",
              "    </tr>\n",
              "    <tr>\n",
              "      <th>order_delivered_carrier_date</th>\n",
              "      <td>112650</td>\n",
              "      <td>2018-01-05 02:37:45.879982336</td>\n",
              "      <td>2016-10-08 10:34:01</td>\n",
              "      <td>2017-09-18 20:32:26</td>\n",
              "      <td>2018-01-24 19:16:48</td>\n",
              "      <td>2018-05-08 13:31:45</td>\n",
              "      <td>2018-09-11 19:48:28</td>\n",
              "      <td>NaN</td>\n",
              "    </tr>\n",
              "    <tr>\n",
              "      <th>order_delivered_customer_date</th>\n",
              "      <td>112650</td>\n",
              "      <td>2018-01-14 13:04:17.977399040</td>\n",
              "      <td>2016-10-11 13:46:32</td>\n",
              "      <td>2017-09-26 19:55:45</td>\n",
              "      <td>2018-02-02 20:42:18</td>\n",
              "      <td>2018-05-15 20:26:36</td>\n",
              "      <td>2018-10-17 13:22:46</td>\n",
              "      <td>NaN</td>\n",
              "    </tr>\n",
              "    <tr>\n",
              "      <th>order_estimated_delivery_date</th>\n",
              "      <td>112650</td>\n",
              "      <td>2018-01-24 20:12:15.531291392</td>\n",
              "      <td>2016-10-04 00:00:00</td>\n",
              "      <td>2017-10-05 00:00:00</td>\n",
              "      <td>2018-02-16 00:00:00</td>\n",
              "      <td>2018-05-28 00:00:00</td>\n",
              "      <td>2018-10-25 00:00:00</td>\n",
              "      <td>NaN</td>\n",
              "    </tr>\n",
              "    <tr>\n",
              "      <th>order_item_id</th>\n",
              "      <td>112650.0</td>\n",
              "      <td>1.197834</td>\n",
              "      <td>1.0</td>\n",
              "      <td>1.0</td>\n",
              "      <td>1.0</td>\n",
              "      <td>1.0</td>\n",
              "      <td>21.0</td>\n",
              "      <td>0.705124</td>\n",
              "    </tr>\n",
              "    <tr>\n",
              "      <th>shipping_limit_date</th>\n",
              "      <td>112650</td>\n",
              "      <td>2018-01-07 15:36:52.192685312</td>\n",
              "      <td>2016-09-19 00:15:34</td>\n",
              "      <td>2017-09-20 20:57:27.500000</td>\n",
              "      <td>2018-01-26 13:59:35</td>\n",
              "      <td>2018-05-10 14:34:00.750000128</td>\n",
              "      <td>2020-04-09 22:35:08</td>\n",
              "      <td>NaN</td>\n",
              "    </tr>\n",
              "    <tr>\n",
              "      <th>price</th>\n",
              "      <td>112650.0</td>\n",
              "      <td>120.653739</td>\n",
              "      <td>0.85</td>\n",
              "      <td>39.9</td>\n",
              "      <td>74.99</td>\n",
              "      <td>134.9</td>\n",
              "      <td>6735.0</td>\n",
              "      <td>183.633928</td>\n",
              "    </tr>\n",
              "    <tr>\n",
              "      <th>freight_value</th>\n",
              "      <td>112650.0</td>\n",
              "      <td>19.99032</td>\n",
              "      <td>0.0</td>\n",
              "      <td>13.08</td>\n",
              "      <td>16.26</td>\n",
              "      <td>21.15</td>\n",
              "      <td>409.68</td>\n",
              "      <td>15.806405</td>\n",
              "    </tr>\n",
              "    <tr>\n",
              "      <th>Order in Procces in day</th>\n",
              "      <td>112650.0</td>\n",
              "      <td>0.266241</td>\n",
              "      <td>-30.0</td>\n",
              "      <td>1.0</td>\n",
              "      <td>1.0</td>\n",
              "      <td>3.0</td>\n",
              "      <td>30.0</td>\n",
              "      <td>7.760504</td>\n",
              "    </tr>\n",
              "    <tr>\n",
              "      <th>Day Delivered Customer</th>\n",
              "      <td>112650.0</td>\n",
              "      <td>0.443063</td>\n",
              "      <td>-30.0</td>\n",
              "      <td>-11.0</td>\n",
              "      <td>5.0</td>\n",
              "      <td>10.0</td>\n",
              "      <td>30.0</td>\n",
              "      <td>12.812702</td>\n",
              "    </tr>\n",
              "    <tr>\n",
              "      <th>Variance Time</th>\n",
              "      <td>112650.0</td>\n",
              "      <td>0.294345</td>\n",
              "      <td>-30.0</td>\n",
              "      <td>-11.0</td>\n",
              "      <td>-2.0</td>\n",
              "      <td>13.0</td>\n",
              "      <td>30.0</td>\n",
              "      <td>13.356509</td>\n",
              "    </tr>\n",
              "  </tbody>\n",
              "</table>\n",
              "</div>"
            ],
            "text/plain": [
              "                                  count                           mean  \\\n",
              "order_purchase_timestamp         112650  2018-01-01 00:09:48.464376320   \n",
              "order_approved_at                112650  2018-01-01 12:00:01.835632384   \n",
              "order_delivered_carrier_date     112650  2018-01-05 02:37:45.879982336   \n",
              "order_delivered_customer_date    112650  2018-01-14 13:04:17.977399040   \n",
              "order_estimated_delivery_date    112650  2018-01-24 20:12:15.531291392   \n",
              "order_item_id                  112650.0                       1.197834   \n",
              "shipping_limit_date              112650  2018-01-07 15:36:52.192685312   \n",
              "price                          112650.0                     120.653739   \n",
              "freight_value                  112650.0                       19.99032   \n",
              "Order in Procces in day        112650.0                       0.266241   \n",
              "Day Delivered Customer         112650.0                       0.443063   \n",
              "Variance Time                  112650.0                       0.294345   \n",
              "\n",
              "                                               min  \\\n",
              "order_purchase_timestamp       2016-09-04 21:15:19   \n",
              "order_approved_at              2016-09-15 12:16:38   \n",
              "order_delivered_carrier_date   2016-10-08 10:34:01   \n",
              "order_delivered_customer_date  2016-10-11 13:46:32   \n",
              "order_estimated_delivery_date  2016-10-04 00:00:00   \n",
              "order_item_id                                  1.0   \n",
              "shipping_limit_date            2016-09-19 00:15:34   \n",
              "price                                         0.85   \n",
              "freight_value                                  0.0   \n",
              "Order in Procces in day                      -30.0   \n",
              "Day Delivered Customer                       -30.0   \n",
              "Variance Time                                -30.0   \n",
              "\n",
              "                                                         25%  \\\n",
              "order_purchase_timestamp                 2017-09-13 19:17:04   \n",
              "order_approved_at              2017-09-14 06:45:15.249999872   \n",
              "order_delivered_carrier_date             2017-09-18 20:32:26   \n",
              "order_delivered_customer_date            2017-09-26 19:55:45   \n",
              "order_estimated_delivery_date            2017-10-05 00:00:00   \n",
              "order_item_id                                            1.0   \n",
              "shipping_limit_date               2017-09-20 20:57:27.500000   \n",
              "price                                                   39.9   \n",
              "freight_value                                          13.08   \n",
              "Order in Procces in day                                  1.0   \n",
              "Day Delivered Customer                                 -11.0   \n",
              "Variance Time                                          -11.0   \n",
              "\n",
              "                                                      50%  \\\n",
              "order_purchase_timestamp              2018-01-19 23:02:16   \n",
              "order_approved_at              2018-01-20 13:42:11.500000   \n",
              "order_delivered_carrier_date          2018-01-24 19:16:48   \n",
              "order_delivered_customer_date         2018-02-02 20:42:18   \n",
              "order_estimated_delivery_date         2018-02-16 00:00:00   \n",
              "order_item_id                                         1.0   \n",
              "shipping_limit_date                   2018-01-26 13:59:35   \n",
              "price                                               74.99   \n",
              "freight_value                                       16.26   \n",
              "Order in Procces in day                               1.0   \n",
              "Day Delivered Customer                                5.0   \n",
              "Variance Time                                        -2.0   \n",
              "\n",
              "                                                         75%  \\\n",
              "order_purchase_timestamp       2018-05-04 17:30:36.750000128   \n",
              "order_approved_at                        2018-05-05 03:10:23   \n",
              "order_delivered_carrier_date             2018-05-08 13:31:45   \n",
              "order_delivered_customer_date            2018-05-15 20:26:36   \n",
              "order_estimated_delivery_date            2018-05-28 00:00:00   \n",
              "order_item_id                                            1.0   \n",
              "shipping_limit_date            2018-05-10 14:34:00.750000128   \n",
              "price                                                  134.9   \n",
              "freight_value                                          21.15   \n",
              "Order in Procces in day                                  3.0   \n",
              "Day Delivered Customer                                  10.0   \n",
              "Variance Time                                           13.0   \n",
              "\n",
              "                                               max         std  \n",
              "order_purchase_timestamp       2018-09-03 09:06:57         NaN  \n",
              "order_approved_at              2018-09-03 17:40:06         NaN  \n",
              "order_delivered_carrier_date   2018-09-11 19:48:28         NaN  \n",
              "order_delivered_customer_date  2018-10-17 13:22:46         NaN  \n",
              "order_estimated_delivery_date  2018-10-25 00:00:00         NaN  \n",
              "order_item_id                                 21.0    0.705124  \n",
              "shipping_limit_date            2020-04-09 22:35:08         NaN  \n",
              "price                                       6735.0  183.633928  \n",
              "freight_value                               409.68   15.806405  \n",
              "Order in Procces in day                       30.0    7.760504  \n",
              "Day Delivered Customer                        30.0   12.812702  \n",
              "Variance Time                                 30.0   13.356509  "
            ]
          },
          "execution_count": 41,
          "metadata": {},
          "output_type": "execute_result"
        }
      ],
      "source": [
        "orderProduct.describe().T"
      ]
    },
    {
      "cell_type": "markdown",
      "metadata": {},
      "source": [
        "##### Top and Worst Product"
      ]
    },
    {
      "cell_type": "code",
      "execution_count": 45,
      "metadata": {},
      "outputs": [
        {
          "data": {
            "text/plain": [
              "product_category_name_english\n",
              "bed_bath_table           11115\n",
              "health_beauty             9670\n",
              "sports_leisure            8641\n",
              "furniture_decor           8334\n",
              "computers_accessories     7827\n",
              "housewares                6964\n",
              "watches_gifts             5991\n",
              "telephony                 4545\n",
              "garden_tools              4347\n",
              "auto                      4235\n",
              "Name: count, dtype: int64"
            ]
          },
          "execution_count": 45,
          "metadata": {},
          "output_type": "execute_result"
        }
      ],
      "source": [
        "topProduct = orderProduct['product_category_name_english'].value_counts().head(10)\n",
        "topProduct\n"
      ]
    },
    {
      "cell_type": "code",
      "execution_count": 46,
      "metadata": {},
      "outputs": [
        {
          "data": {
            "text/plain": [
              "product_category_name_english\n",
              "bed_bath_table           9417\n",
              "health_beauty            8836\n",
              "sports_leisure           7720\n",
              "computers_accessories    6689\n",
              "furniture_decor          6449\n",
              "housewares               5884\n",
              "watches_gifts            5624\n",
              "telephony                4199\n",
              "auto                     3897\n",
              "toys                     3886\n",
              "Name: order_id, dtype: int64"
            ]
          },
          "execution_count": 46,
          "metadata": {},
          "output_type": "execute_result"
        }
      ],
      "source": [
        "top10Product = orderProduct.groupby(by='product_category_name_english').order_id.nunique().sort_values(ascending=False).head(10)\n",
        "top10Product"
      ]
    },
    {
      "cell_type": "code",
      "execution_count": 47,
      "metadata": {},
      "outputs": [
        {
          "data": {
            "text/plain": [
              "product_category_name_english\n",
              "security_and_services         2\n",
              "fashion_childrens_clothes     8\n",
              "cds_dvds_musicals            12\n",
              "la_cuisine                   13\n",
              "arts_and_craftmanship        23\n",
              "home_comfort_2               24\n",
              "diapers_and_hygiene          27\n",
              "fashion_sport                27\n",
              "flowers                      29\n",
              "music                        38\n",
              "Name: order_id, dtype: int64"
            ]
          },
          "execution_count": 47,
          "metadata": {},
          "output_type": "execute_result"
        }
      ],
      "source": [
        "\n",
        "bottom10Product = orderProduct.groupby(by='product_category_name_english').order_id.nunique().sort_values(ascending= True).head(10)\n",
        "bottom10Product\n"
      ]
    },
    {
      "cell_type": "code",
      "execution_count": 48,
      "metadata": {},
      "outputs": [
        {
          "data": {
            "image/png": "[encoded data removed]",
            "text/plain": [
              "<Figure size 1500x500 with 2 Axes>"
            ]
          },
          "metadata": {},
          "output_type": "display_data"
        }
      ],
      "source": [
        "barChartSubplot(top10Product, bottom10Product, palette1 = 'viridis', palette2 = 'pastel')"
      ]
    },
    {
      "cell_type": "markdown",
      "metadata": {},
      "source": [
        "The product category with the most purchases is bet_bath_table products, and the second position is healthy_beauty, etc., conversely security_and_services is the product category with the lowest purchases\n"
      ]
    },
    {
      "cell_type": "markdown",
      "metadata": {},
      "source": [
        "#### Payment"
      ]
    },
    {
      "cell_type": "code",
      "execution_count": 47,
      "metadata": {},
      "outputs": [
        {
          "name": "stdout",
          "output_type": "stream",
          "text": [
            "Index(['order_id', 'customer_id', 'order_status', 'order_purchase_timestamp',\n",
            "       'order_approved_at', 'order_delivered_carrier_date',\n",
            "       'order_delivered_customer_date', 'order_estimated_delivery_date',\n",
            "       'order_item_id', 'product_id', 'seller_id', 'shipping_limit_date',\n",
            "       'price', 'freight_value', 'Order in Procces in day',\n",
            "       'Day Delivered Customer', 'Variance Time', 'Delivery Status'],\n",
            "      dtype='object') (112650, 18)\n",
            "Index(['order_id', 'payment_sequential', 'payment_type',\n",
            "       'payment_installments', 'payment_value'],\n",
            "      dtype='object') (103886, 5)\n"
          ]
        }
      ],
      "source": [
        "print(orderItem.columns, orderItem.shape)\n",
        "print(payment.columns, payment.shape)"
      ]
    },
    {
      "cell_type": "code",
      "execution_count": 49,
      "metadata": {},
      "outputs": [
        {
          "name": "stdout",
          "output_type": "stream",
          "text": [
            "(117601, 22)\n"
          ]
        },
        {
          "data": {
            "text/html": [
              "<div>\n",
              "<style scoped>\n",
              "    .dataframe tbody tr th:only-of-type {\n",
              "        vertical-align: middle;\n",
              "    }\n",
              "\n",
              "    .dataframe tbody tr th {\n",
              "        vertical-align: top;\n",
              "    }\n",
              "\n",
              "    .dataframe thead th {\n",
              "        text-align: right;\n",
              "    }\n",
              "</style>\n",
              "<table border=\"1\" class=\"dataframe\">\n",
              "  <thead>\n",
              "    <tr style=\"text-align: right;\">\n",
              "      <th></th>\n",
              "      <th>order_id</th>\n",
              "      <th>customer_id</th>\n",
              "      <th>order_status</th>\n",
              "      <th>order_purchase_timestamp</th>\n",
              "      <th>order_approved_at</th>\n",
              "      <th>order_delivered_carrier_date</th>\n",
              "      <th>order_delivered_customer_date</th>\n",
              "      <th>order_estimated_delivery_date</th>\n",
              "      <th>order_item_id</th>\n",
              "      <th>product_id</th>\n",
              "      <th>seller_id</th>\n",
              "      <th>shipping_limit_date</th>\n",
              "      <th>price</th>\n",
              "      <th>freight_value</th>\n",
              "      <th>Order in Procces in day</th>\n",
              "      <th>Day Delivered Customer</th>\n",
              "      <th>Variance Time</th>\n",
              "      <th>Delivery Status</th>\n",
              "      <th>payment_sequential</th>\n",
              "      <th>payment_type</th>\n",
              "      <th>payment_installments</th>\n",
              "      <th>payment_value</th>\n",
              "    </tr>\n",
              "  </thead>\n",
              "  <tbody>\n",
              "    <tr>\n",
              "      <th>0</th>\n",
              "      <td>e481f51cbdc54678b7cc49136f2d6af7</td>\n",
              "      <td>9ef432eb6251297304e76186b10a928d</td>\n",
              "      <td>delivered</td>\n",
              "      <td>2017-10-02 10:56:33</td>\n",
              "      <td>2017-10-02 11:07:15</td>\n",
              "      <td>2017-10-04 19:55:00</td>\n",
              "      <td>2017-10-10 21:25:13</td>\n",
              "      <td>2017-10-18</td>\n",
              "      <td>1</td>\n",
              "      <td>87285b34884572647811a353c7ac498a</td>\n",
              "      <td>3504c0cb71d7fa48d967e0e4c94d59d9</td>\n",
              "      <td>2017-10-06 11:07:15</td>\n",
              "      <td>29.99</td>\n",
              "      <td>8.72</td>\n",
              "      <td>2</td>\n",
              "      <td>8</td>\n",
              "      <td>-8</td>\n",
              "      <td>Earlier</td>\n",
              "      <td>1</td>\n",
              "      <td>credit_card</td>\n",
              "      <td>1</td>\n",
              "      <td>18.12</td>\n",
              "    </tr>\n",
              "    <tr>\n",
              "      <th>1</th>\n",
              "      <td>e481f51cbdc54678b7cc49136f2d6af7</td>\n",
              "      <td>9ef432eb6251297304e76186b10a928d</td>\n",
              "      <td>delivered</td>\n",
              "      <td>2017-10-02 10:56:33</td>\n",
              "      <td>2017-10-02 11:07:15</td>\n",
              "      <td>2017-10-04 19:55:00</td>\n",
              "      <td>2017-10-10 21:25:13</td>\n",
              "      <td>2017-10-18</td>\n",
              "      <td>1</td>\n",
              "      <td>87285b34884572647811a353c7ac498a</td>\n",
              "      <td>3504c0cb71d7fa48d967e0e4c94d59d9</td>\n",
              "      <td>2017-10-06 11:07:15</td>\n",
              "      <td>29.99</td>\n",
              "      <td>8.72</td>\n",
              "      <td>2</td>\n",
              "      <td>8</td>\n",
              "      <td>-8</td>\n",
              "      <td>Earlier</td>\n",
              "      <td>3</td>\n",
              "      <td>voucher</td>\n",
              "      <td>1</td>\n",
              "      <td>2.00</td>\n",
              "    </tr>\n",
              "    <tr>\n",
              "      <th>2</th>\n",
              "      <td>e481f51cbdc54678b7cc49136f2d6af7</td>\n",
              "      <td>9ef432eb6251297304e76186b10a928d</td>\n",
              "      <td>delivered</td>\n",
              "      <td>2017-10-02 10:56:33</td>\n",
              "      <td>2017-10-02 11:07:15</td>\n",
              "      <td>2017-10-04 19:55:00</td>\n",
              "      <td>2017-10-10 21:25:13</td>\n",
              "      <td>2017-10-18</td>\n",
              "      <td>1</td>\n",
              "      <td>87285b34884572647811a353c7ac498a</td>\n",
              "      <td>3504c0cb71d7fa48d967e0e4c94d59d9</td>\n",
              "      <td>2017-10-06 11:07:15</td>\n",
              "      <td>29.99</td>\n",
              "      <td>8.72</td>\n",
              "      <td>2</td>\n",
              "      <td>8</td>\n",
              "      <td>-8</td>\n",
              "      <td>Earlier</td>\n",
              "      <td>2</td>\n",
              "      <td>voucher</td>\n",
              "      <td>1</td>\n",
              "      <td>18.59</td>\n",
              "    </tr>\n",
              "    <tr>\n",
              "      <th>3</th>\n",
              "      <td>53cdb2fc8bc7dce0b6741e2150273451</td>\n",
              "      <td>b0830fb4747a6c6d20dea0b8c802d7ef</td>\n",
              "      <td>delivered</td>\n",
              "      <td>2018-07-24 20:41:37</td>\n",
              "      <td>2018-07-26 03:24:27</td>\n",
              "      <td>2018-07-26 14:31:00</td>\n",
              "      <td>2018-08-07 15:27:45</td>\n",
              "      <td>2018-08-13</td>\n",
              "      <td>1</td>\n",
              "      <td>595fac2a385ac33a80bd5114aec74eb8</td>\n",
              "      <td>289cdb325fb7e7f891c38608bf9e0962</td>\n",
              "      <td>2018-07-30 03:24:27</td>\n",
              "      <td>118.70</td>\n",
              "      <td>22.76</td>\n",
              "      <td>0</td>\n",
              "      <td>-17</td>\n",
              "      <td>-6</td>\n",
              "      <td>Earlier</td>\n",
              "      <td>1</td>\n",
              "      <td>boleto</td>\n",
              "      <td>1</td>\n",
              "      <td>141.46</td>\n",
              "    </tr>\n",
              "    <tr>\n",
              "      <th>4</th>\n",
              "      <td>47770eb9100c2d0c44946d9cf07ec65d</td>\n",
              "      <td>41ce2a54c0b03bf3443c3d931a367089</td>\n",
              "      <td>delivered</td>\n",
              "      <td>2018-08-08 08:38:49</td>\n",
              "      <td>2018-08-08 08:55:23</td>\n",
              "      <td>2018-08-08 13:50:00</td>\n",
              "      <td>2018-08-17 18:06:29</td>\n",
              "      <td>2018-09-04</td>\n",
              "      <td>1</td>\n",
              "      <td>aa4383b373c6aca5d8797843e5594415</td>\n",
              "      <td>4869f7a5dfa277a7dca6462dcf3b52b2</td>\n",
              "      <td>2018-08-13 08:55:23</td>\n",
              "      <td>159.90</td>\n",
              "      <td>19.22</td>\n",
              "      <td>0</td>\n",
              "      <td>9</td>\n",
              "      <td>13</td>\n",
              "      <td>Earlier</td>\n",
              "      <td>1</td>\n",
              "      <td>credit_card</td>\n",
              "      <td>3</td>\n",
              "      <td>179.12</td>\n",
              "    </tr>\n",
              "  </tbody>\n",
              "</table>\n",
              "</div>"
            ],
            "text/plain": [
              "                           order_id                       customer_id  \\\n",
              "0  e481f51cbdc54678b7cc49136f2d6af7  9ef432eb6251297304e76186b10a928d   \n",
              "1  e481f51cbdc54678b7cc49136f2d6af7  9ef432eb6251297304e76186b10a928d   \n",
              "2  e481f51cbdc54678b7cc49136f2d6af7  9ef432eb6251297304e76186b10a928d   \n",
              "3  53cdb2fc8bc7dce0b6741e2150273451  b0830fb4747a6c6d20dea0b8c802d7ef   \n",
              "4  47770eb9100c2d0c44946d9cf07ec65d  41ce2a54c0b03bf3443c3d931a367089   \n",
              "\n",
              "  order_status order_purchase_timestamp   order_approved_at  \\\n",
              "0    delivered      2017-10-02 10:56:33 2017-10-02 11:07:15   \n",
              "1    delivered      2017-10-02 10:56:33 2017-10-02 11:07:15   \n",
              "2    delivered      2017-10-02 10:56:33 2017-10-02 11:07:15   \n",
              "3    delivered      2018-07-24 20:41:37 2018-07-26 03:24:27   \n",
              "4    delivered      2018-08-08 08:38:49 2018-08-08 08:55:23   \n",
              "\n",
              "  order_delivered_carrier_date order_delivered_customer_date  \\\n",
              "0          2017-10-04 19:55:00           2017-10-10 21:25:13   \n",
              "1          2017-10-04 19:55:00           2017-10-10 21:25:13   \n",
              "2          2017-10-04 19:55:00           2017-10-10 21:25:13   \n",
              "3          2018-07-26 14:31:00           2018-08-07 15:27:45   \n",
              "4          2018-08-08 13:50:00           2018-08-17 18:06:29   \n",
              "\n",
              "  order_estimated_delivery_date  order_item_id  \\\n",
              "0                    2017-10-18              1   \n",
              "1                    2017-10-18              1   \n",
              "2                    2017-10-18              1   \n",
              "3                    2018-08-13              1   \n",
              "4                    2018-09-04              1   \n",
              "\n",
              "                         product_id                         seller_id  \\\n",
              "0  87285b34884572647811a353c7ac498a  3504c0cb71d7fa48d967e0e4c94d59d9   \n",
              "1  87285b34884572647811a353c7ac498a  3504c0cb71d7fa48d967e0e4c94d59d9   \n",
              "2  87285b34884572647811a353c7ac498a  3504c0cb71d7fa48d967e0e4c94d59d9   \n",
              "3  595fac2a385ac33a80bd5114aec74eb8  289cdb325fb7e7f891c38608bf9e0962   \n",
              "4  aa4383b373c6aca5d8797843e5594415  4869f7a5dfa277a7dca6462dcf3b52b2   \n",
              "\n",
              "  shipping_limit_date   price  freight_value  Order in Procces in day  \\\n",
              "0 2017-10-06 11:07:15   29.99           8.72                        2   \n",
              "1 2017-10-06 11:07:15   29.99           8.72                        2   \n",
              "2 2017-10-06 11:07:15   29.99           8.72                        2   \n",
              "3 2018-07-30 03:24:27  118.70          22.76                        0   \n",
              "4 2018-08-13 08:55:23  159.90          19.22                        0   \n",
              "\n",
              "   Day Delivered Customer  Variance Time Delivery Status  payment_sequential  \\\n",
              "0                       8             -8         Earlier                   1   \n",
              "1                       8             -8         Earlier                   3   \n",
              "2                       8             -8         Earlier                   2   \n",
              "3                     -17             -6         Earlier                   1   \n",
              "4                       9             13         Earlier                   1   \n",
              "\n",
              "  payment_type  payment_installments  payment_value  \n",
              "0  credit_card                     1          18.12  \n",
              "1      voucher                     1           2.00  \n",
              "2      voucher                     1          18.59  \n",
              "3       boleto                     1         141.46  \n",
              "4  credit_card                     3         179.12  "
            ]
          },
          "execution_count": 49,
          "metadata": {},
          "output_type": "execute_result"
        }
      ],
      "source": [
        "orderPayment = orderItem.merge(payment, how = 'inner', on = 'order_id')\n",
        "print(orderPayment.shape)\n",
        "orderPayment.head()\n"
      ]
    },
    {
      "cell_type": "markdown",
      "metadata": {},
      "source": [
        "In this step, two dataframes, 'orderItem' and 'payment', are merged based on the 'order_id' column using the inner join method. The result is a new dataframe named 'orderPayment' containing the combined data from both dataframes."
      ]
    },
    {
      "cell_type": "code",
      "execution_count": 50,
      "metadata": {},
      "outputs": [
        {
          "data": {
            "text/html": [
              "<div>\n",
              "<style scoped>\n",
              "    .dataframe tbody tr th:only-of-type {\n",
              "        vertical-align: middle;\n",
              "    }\n",
              "\n",
              "    .dataframe tbody tr th {\n",
              "        vertical-align: top;\n",
              "    }\n",
              "\n",
              "    .dataframe thead th {\n",
              "        text-align: right;\n",
              "    }\n",
              "</style>\n",
              "<table border=\"1\" class=\"dataframe\">\n",
              "  <thead>\n",
              "    <tr style=\"text-align: right;\">\n",
              "      <th></th>\n",
              "      <th>order_id</th>\n",
              "      <th>payment_type</th>\n",
              "      <th>payment_sequential</th>\n",
              "      <th>payment_installments</th>\n",
              "      <th>payment_value</th>\n",
              "    </tr>\n",
              "  </thead>\n",
              "  <tbody>\n",
              "    <tr>\n",
              "      <th>0</th>\n",
              "      <td>00010242fe8c5a6d1ba2dd792cb16214</td>\n",
              "      <td>credit_card</td>\n",
              "      <td>1</td>\n",
              "      <td>2</td>\n",
              "      <td>72.19</td>\n",
              "    </tr>\n",
              "    <tr>\n",
              "      <th>1</th>\n",
              "      <td>00018f77f2f0320c557190d7a144bdd3</td>\n",
              "      <td>credit_card</td>\n",
              "      <td>1</td>\n",
              "      <td>3</td>\n",
              "      <td>259.83</td>\n",
              "    </tr>\n",
              "    <tr>\n",
              "      <th>2</th>\n",
              "      <td>000229ec398224ef6ca0657da4fc703e</td>\n",
              "      <td>credit_card</td>\n",
              "      <td>1</td>\n",
              "      <td>5</td>\n",
              "      <td>216.87</td>\n",
              "    </tr>\n",
              "    <tr>\n",
              "      <th>3</th>\n",
              "      <td>00024acbcdf0a6daa1e931b038114c75</td>\n",
              "      <td>credit_card</td>\n",
              "      <td>1</td>\n",
              "      <td>2</td>\n",
              "      <td>25.78</td>\n",
              "    </tr>\n",
              "    <tr>\n",
              "      <th>4</th>\n",
              "      <td>00042b26cf59d7ce69dfabb4e55b4fd9</td>\n",
              "      <td>credit_card</td>\n",
              "      <td>1</td>\n",
              "      <td>3</td>\n",
              "      <td>218.04</td>\n",
              "    </tr>\n",
              "  </tbody>\n",
              "</table>\n",
              "</div>"
            ],
            "text/plain": [
              "                           order_id payment_type  payment_sequential  \\\n",
              "0  00010242fe8c5a6d1ba2dd792cb16214  credit_card                   1   \n",
              "1  00018f77f2f0320c557190d7a144bdd3  credit_card                   1   \n",
              "2  000229ec398224ef6ca0657da4fc703e  credit_card                   1   \n",
              "3  00024acbcdf0a6daa1e931b038114c75  credit_card                   1   \n",
              "4  00042b26cf59d7ce69dfabb4e55b4fd9  credit_card                   1   \n",
              "\n",
              "   payment_installments  payment_value  \n",
              "0                     2          72.19  \n",
              "1                     3         259.83  \n",
              "2                     5         216.87  \n",
              "3                     2          25.78  \n",
              "4                     3         218.04  "
            ]
          },
          "execution_count": 50,
          "metadata": {},
          "output_type": "execute_result"
        }
      ],
      "source": [
        "paymentGroup = orderPayment.groupby('order_id').agg({\n",
        "    'payment_type': lambda x: 'payment multitype' if len(set(x)) > 1 else x.iloc[0],\n",
        "    'payment_sequential': 'sum',\n",
        "    'payment_installments': 'sum',\n",
        "    'payment_value': 'sum'\n",
        "}).reset_index()\n",
        "\n",
        "paymentGroup.head()"
      ]
    },
    {
      "cell_type": "markdown",
      "metadata": {},
      "source": [
        "In this step, I am grouping and aggregating payment data within the 'orderPayment' dataframe based on the order number ('order_id'). This includes calculating the count of payment orders, total installment payments, and total payment amount. Additionally, payment types are merged if there are multiple types within one order, or only taking the payment type value if there's only one type available. The result is stored in the 'paymentGroup' dataframe."
      ]
    },
    {
      "cell_type": "code",
      "execution_count": 50,
      "metadata": {},
      "outputs": [
        {
          "data": {
            "text/plain": [
              "(98665, 5)"
            ]
          },
          "execution_count": 50,
          "metadata": {},
          "output_type": "execute_result"
        }
      ],
      "source": [
        "paymentGroup.shape"
      ]
    },
    {
      "cell_type": "code",
      "execution_count": 51,
      "metadata": {},
      "outputs": [
        {
          "data": {
            "text/plain": [
              "payment_type\n",
              "credit_card          73764\n",
              "boleto               19614\n",
              "payment multitype     2227\n",
              "voucher               1540\n",
              "debit_card            1520\n",
              "Name: order_id, dtype: int64"
            ]
          },
          "execution_count": 51,
          "metadata": {},
          "output_type": "execute_result"
        }
      ],
      "source": [
        "paymentType = paymentGroup.groupby(by='payment_type').order_id.nunique().sort_values(ascending=False)\n",
        "paymentType\n"
      ]
    },
    {
      "cell_type": "code",
      "execution_count": 52,
      "metadata": {},
      "outputs": [
        {
          "data": {
            "image/png": "[encoded data removed]",
            "text/plain": [
              "<Figure size 1000x500 with 1 Axes>"
            ]
          },
          "metadata": {},
          "output_type": "display_data"
        }
      ],
      "source": [
        "plt.figure(figsize=(10, 5))\n",
        "explode = [0.1, 0.1, 0.1, 0.1, 0.1]\n",
        "plt.pie(paymentType, autopct='', startangle=140, explode=explode)\n",
        "plt.axis('equal')\n",
        "plt.title('Payment Type Distribution')\n",
        "plt.legend(paymentType.index)\n",
        "plt.show()\n"
      ]
    },
    {
      "cell_type": "markdown",
      "metadata": {},
      "source": [
        "In this step, I group the count of unique orders based on payment types in the 'paymentGroup' dataframe. The result shows that payment using credit card ('credit_card') is the most common, followed by payment with boleto ('boleto'). There are also some orders with mixed payment types ('payment multitype')."
      ]
    },
    {
      "cell_type": "markdown",
      "metadata": {},
      "source": [
        "##### Payment Installment"
      ]
    },
    {
      "cell_type": "code",
      "execution_count": 54,
      "metadata": {},
      "outputs": [
        {
          "data": {
            "text/html": [
              "<div>\n",
              "<style scoped>\n",
              "    .dataframe tbody tr th:only-of-type {\n",
              "        vertical-align: middle;\n",
              "    }\n",
              "\n",
              "    .dataframe tbody tr th {\n",
              "        vertical-align: top;\n",
              "    }\n",
              "\n",
              "    .dataframe thead tr th {\n",
              "        text-align: left;\n",
              "    }\n",
              "\n",
              "    .dataframe thead tr:last-of-type th {\n",
              "        text-align: right;\n",
              "    }\n",
              "</style>\n",
              "<table border=\"1\" class=\"dataframe\">\n",
              "  <thead>\n",
              "    <tr>\n",
              "      <th></th>\n",
              "      <th>order_id</th>\n",
              "      <th colspan=\"4\" halign=\"left\">payment_installments</th>\n",
              "    </tr>\n",
              "    <tr>\n",
              "      <th></th>\n",
              "      <th>nunique</th>\n",
              "      <th>mean</th>\n",
              "      <th>min</th>\n",
              "      <th>max</th>\n",
              "      <th>std</th>\n",
              "    </tr>\n",
              "    <tr>\n",
              "      <th>payment_type</th>\n",
              "      <th></th>\n",
              "      <th></th>\n",
              "      <th></th>\n",
              "      <th></th>\n",
              "      <th></th>\n",
              "    </tr>\n",
              "  </thead>\n",
              "  <tbody>\n",
              "    <tr>\n",
              "      <th>boleto</th>\n",
              "      <td>19614</td>\n",
              "      <td>1.165851</td>\n",
              "      <td>1</td>\n",
              "      <td>20</td>\n",
              "      <td>0.628748</td>\n",
              "    </tr>\n",
              "    <tr>\n",
              "      <th>credit_card</th>\n",
              "      <td>73764</td>\n",
              "      <td>4.190527</td>\n",
              "      <td>0</td>\n",
              "      <td>240</td>\n",
              "      <td>4.823353</td>\n",
              "    </tr>\n",
              "    <tr>\n",
              "      <th>debit_card</th>\n",
              "      <td>1520</td>\n",
              "      <td>1.111842</td>\n",
              "      <td>1</td>\n",
              "      <td>7</td>\n",
              "      <td>0.471007</td>\n",
              "    </tr>\n",
              "    <tr>\n",
              "      <th>payment multitype</th>\n",
              "      <td>2227</td>\n",
              "      <td>4.147732</td>\n",
              "      <td>2</td>\n",
              "      <td>50</td>\n",
              "      <td>4.517929</td>\n",
              "    </tr>\n",
              "    <tr>\n",
              "      <th>voucher</th>\n",
              "      <td>1540</td>\n",
              "      <td>1.806494</td>\n",
              "      <td>1</td>\n",
              "      <td>63</td>\n",
              "      <td>2.461178</td>\n",
              "    </tr>\n",
              "  </tbody>\n",
              "</table>\n",
              "</div>"
            ],
            "text/plain": [
              "                  order_id payment_installments                   \n",
              "                   nunique                 mean min  max       std\n",
              "payment_type                                                      \n",
              "boleto               19614             1.165851   1   20  0.628748\n",
              "credit_card          73764             4.190527   0  240  4.823353\n",
              "debit_card            1520             1.111842   1    7  0.471007\n",
              "payment multitype     2227             4.147732   2   50  4.517929\n",
              "voucher               1540             1.806494   1   63  2.461178"
            ]
          },
          "execution_count": 54,
          "metadata": {},
          "output_type": "execute_result"
        }
      ],
      "source": [
        "\n",
        "\n",
        "paymentInstallment = paymentGroup.groupby(by='payment_type').agg({\n",
        "    'order_id':'nunique',\n",
        "    'payment_installments': ['mean', 'min', 'max','std']\n",
        "})\n",
        "paymentInstallment"
      ]
    },
    {
      "cell_type": "markdown",
      "metadata": {},
      "source": [
        "The insight obtained is that the credit card type of payment is more dominant in paying in installments and the average is 3 installments, followed by the boleto type of payment.\n"
      ]
    },
    {
      "cell_type": "markdown",
      "metadata": {},
      "source": [
        "##### Purchase"
      ]
    },
    {
      "cell_type": "code",
      "execution_count": 55,
      "metadata": {},
      "outputs": [
        {
          "data": {
            "text/plain": [
              "order_purchase_timestamp\n",
              "2018    53775\n",
              "2017    44579\n",
              "2016      311\n",
              "Name: customer_id, dtype: int64"
            ]
          },
          "execution_count": 55,
          "metadata": {},
          "output_type": "execute_result"
        }
      ],
      "source": [
        "purchase = orderPayment.groupby(orderPayment['order_purchase_timestamp'].dt.year).customer_id.nunique().sort_values(ascending=False)\n",
        "purchase"
      ]
    },
    {
      "cell_type": "code",
      "execution_count": 56,
      "metadata": {},
      "outputs": [
        {
          "data": {
            "image/png": "[encoded data removed]",
            "text/plain": [
              "<Figure size 1500x700 with 1 Axes>"
            ]
          },
          "metadata": {},
          "output_type": "display_data"
        }
      ],
      "source": [
        "\n",
        "purchasePlot = orderPayment.groupby(orderPayment['order_purchase_timestamp'].dt.date).size()\n",
        "plt.figure(figsize=(15,7))\n",
        "plt.plot(purchasePlot.index, purchasePlot.values, marker ='o', linestyle = '-',markerfacecolor='red', color='c',markersize = 2.5)\n",
        "plt.ylabel('Count Transaction')\n",
        "plt.xlabel('Year')\n",
        "plt.title('Purchase Transaction',style='italic')\n",
        "plt.grid(True)\n",
        "plt.show()"
      ]
    },
    {
      "cell_type": "markdown",
      "metadata": {},
      "source": [
        "The insight obtained is that at the end of 2017 it jumped higher than usual\n"
      ]
    },
    {
      "cell_type": "markdown",
      "metadata": {},
      "source": [
        "\n",
        "##### Time Transaction"
      ]
    },
    {
      "cell_type": "code",
      "execution_count": 57,
      "metadata": {},
      "outputs": [],
      "source": [
        "orderPayment['Time Transaction'] = orderPayment['order_purchase_timestamp'].dt.hour\n",
        "\n",
        "def timeMoment(hour):\n",
        "  if 5 <= hour <12:\n",
        "    return 'Morning'\n",
        "  elif 12 <= hour < 17:\n",
        "    return 'Day'\n",
        "  elif 17 <= hour <19:\n",
        "    return 'Afternoon'\n",
        "  elif 19 <= hour < 24:\n",
        "    return 'Night'\n",
        "  else:\n",
        "    return 'Early days'\n",
        "\n",
        "orderPayment['Time Transaction']  = orderPayment['Time Transaction'].apply(timeMoment)"
      ]
    },
    {
      "cell_type": "markdown",
      "metadata": {},
      "source": [
        "Create a new column to identify when the buyer placed the order\n"
      ]
    },
    {
      "cell_type": "code",
      "execution_count": 58,
      "metadata": {},
      "outputs": [
        {
          "data": {
            "text/plain": [
              "Time Transaction\n",
              "Day           31953\n",
              "Night         28133\n",
              "Morning       22230\n",
              "Afternoon     11836\n",
              "Early days     4513\n",
              "Name: order_id, dtype: int64"
            ]
          },
          "execution_count": 58,
          "metadata": {},
          "output_type": "execute_result"
        }
      ],
      "source": [
        "\n",
        "timeTransaction = orderPayment.groupby(by = 'Time Transaction').order_id.nunique().sort_values(ascending=False)\n",
        "timeTransaction"
      ]
    },
    {
      "cell_type": "code",
      "execution_count": 59,
      "metadata": {},
      "outputs": [
        {
          "data": {
            "image/png": "[encoded data removed]",
            "text/plain": [
              "<Figure size 1500x500 with 1 Axes>"
            ]
          },
          "metadata": {},
          "output_type": "display_data"
        }
      ],
      "source": [
        "plt.figure(figsize=(15,5))\n",
        "explode = 0,0.1,0,0,0\n",
        "plt.pie(timeTransaction, autopct = '%1.1f%%', explode= explode, startangle =140)\n",
        "plt.legend(timeTransaction.index)\n",
        "plt.show()"
      ]
    },
    {
      "cell_type": "markdown",
      "metadata": {},
      "source": [
        "\n",
        "\n",
        "\n",
        "\n",
        "\n",
        "\n",
        "\n",
        "The insight gained is that buyers more often place orders during the day and then at night"
      ]
    },
    {
      "cell_type": "code",
      "execution_count": 60,
      "metadata": {},
      "outputs": [
        {
          "data": {
            "text/plain": [
              "Delivery Status\n",
              "Earlier    89692\n",
              "Delay       8974\n",
              "Name: order_id, dtype: int64"
            ]
          },
          "execution_count": 60,
          "metadata": {},
          "output_type": "execute_result"
        }
      ],
      "source": [
        "status = orderItem.groupby(by = 'Delivery Status').order_id.nunique().sort_values(ascending=False)\n",
        "status"
      ]
    },
    {
      "cell_type": "markdown",
      "metadata": {},
      "source": [
        "From the overall data, it was found that around 90.5% of orders were received by customers earlier than the estimate given by the seller, then 9.5% of orders were received late by buyers.\n"
      ]
    },
    {
      "cell_type": "code",
      "execution_count": 61,
      "metadata": {},
      "outputs": [
        {
          "data": {
            "image/png": "[encoded data removed]",
            "text/plain": [
              "<Figure size 1500x500 with 1 Axes>"
            ]
          },
          "metadata": {},
          "output_type": "display_data"
        }
      ],
      "source": [
        "pieChart(status,(0,0.1), 'Progress Shipping')"
      ]
    },
    {
      "cell_type": "markdown",
      "metadata": {},
      "source": [
        "##### Status Delivery Count Customer and City"
      ]
    },
    {
      "cell_type": "code",
      "execution_count": 62,
      "metadata": {},
      "outputs": [
        {
          "name": "stdout",
          "output_type": "stream",
          "text": [
            "(112650, 22)\n"
          ]
        },
        {
          "data": {
            "text/html": [
              "<div>\n",
              "<style scoped>\n",
              "    .dataframe tbody tr th:only-of-type {\n",
              "        vertical-align: middle;\n",
              "    }\n",
              "\n",
              "    .dataframe tbody tr th {\n",
              "        vertical-align: top;\n",
              "    }\n",
              "\n",
              "    .dataframe thead th {\n",
              "        text-align: right;\n",
              "    }\n",
              "</style>\n",
              "<table border=\"1\" class=\"dataframe\">\n",
              "  <thead>\n",
              "    <tr style=\"text-align: right;\">\n",
              "      <th></th>\n",
              "      <th>order_id</th>\n",
              "      <th>customer_id</th>\n",
              "      <th>order_status</th>\n",
              "      <th>order_purchase_timestamp</th>\n",
              "      <th>order_approved_at</th>\n",
              "      <th>order_delivered_carrier_date</th>\n",
              "      <th>order_delivered_customer_date</th>\n",
              "      <th>order_estimated_delivery_date</th>\n",
              "      <th>order_item_id</th>\n",
              "      <th>product_id</th>\n",
              "      <th>seller_id</th>\n",
              "      <th>shipping_limit_date</th>\n",
              "      <th>price</th>\n",
              "      <th>freight_value</th>\n",
              "      <th>Order in Procces in day</th>\n",
              "      <th>Day Delivered Customer</th>\n",
              "      <th>Variance Time</th>\n",
              "      <th>Delivery Status</th>\n",
              "      <th>customer_unique_id</th>\n",
              "      <th>customer_zip_code_prefix</th>\n",
              "      <th>customer_city</th>\n",
              "      <th>customer_state</th>\n",
              "    </tr>\n",
              "  </thead>\n",
              "  <tbody>\n",
              "    <tr>\n",
              "      <th>0</th>\n",
              "      <td>e481f51cbdc54678b7cc49136f2d6af7</td>\n",
              "      <td>9ef432eb6251297304e76186b10a928d</td>\n",
              "      <td>delivered</td>\n",
              "      <td>2017-10-02 10:56:33</td>\n",
              "      <td>2017-10-02 11:07:15</td>\n",
              "      <td>2017-10-04 19:55:00</td>\n",
              "      <td>2017-10-10 21:25:13</td>\n",
              "      <td>2017-10-18</td>\n",
              "      <td>1</td>\n",
              "      <td>87285b34884572647811a353c7ac498a</td>\n",
              "      <td>3504c0cb71d7fa48d967e0e4c94d59d9</td>\n",
              "      <td>2017-10-06 11:07:15</td>\n",
              "      <td>29.99</td>\n",
              "      <td>8.72</td>\n",
              "      <td>2</td>\n",
              "      <td>8</td>\n",
              "      <td>-8</td>\n",
              "      <td>Earlier</td>\n",
              "      <td>7c396fd4830fd04220f754e42b4e5bff</td>\n",
              "      <td>3149</td>\n",
              "      <td>sao paulo</td>\n",
              "      <td>SP</td>\n",
              "    </tr>\n",
              "    <tr>\n",
              "      <th>1</th>\n",
              "      <td>53cdb2fc8bc7dce0b6741e2150273451</td>\n",
              "      <td>b0830fb4747a6c6d20dea0b8c802d7ef</td>\n",
              "      <td>delivered</td>\n",
              "      <td>2018-07-24 20:41:37</td>\n",
              "      <td>2018-07-26 03:24:27</td>\n",
              "      <td>2018-07-26 14:31:00</td>\n",
              "      <td>2018-08-07 15:27:45</td>\n",
              "      <td>2018-08-13</td>\n",
              "      <td>1</td>\n",
              "      <td>595fac2a385ac33a80bd5114aec74eb8</td>\n",
              "      <td>289cdb325fb7e7f891c38608bf9e0962</td>\n",
              "      <td>2018-07-30 03:24:27</td>\n",
              "      <td>118.70</td>\n",
              "      <td>22.76</td>\n",
              "      <td>0</td>\n",
              "      <td>-17</td>\n",
              "      <td>-6</td>\n",
              "      <td>Earlier</td>\n",
              "      <td>af07308b275d755c9edb36a90c618231</td>\n",
              "      <td>47813</td>\n",
              "      <td>barreiras</td>\n",
              "      <td>BA</td>\n",
              "    </tr>\n",
              "    <tr>\n",
              "      <th>2</th>\n",
              "      <td>47770eb9100c2d0c44946d9cf07ec65d</td>\n",
              "      <td>41ce2a54c0b03bf3443c3d931a367089</td>\n",
              "      <td>delivered</td>\n",
              "      <td>2018-08-08 08:38:49</td>\n",
              "      <td>2018-08-08 08:55:23</td>\n",
              "      <td>2018-08-08 13:50:00</td>\n",
              "      <td>2018-08-17 18:06:29</td>\n",
              "      <td>2018-09-04</td>\n",
              "      <td>1</td>\n",
              "      <td>aa4383b373c6aca5d8797843e5594415</td>\n",
              "      <td>4869f7a5dfa277a7dca6462dcf3b52b2</td>\n",
              "      <td>2018-08-13 08:55:23</td>\n",
              "      <td>159.90</td>\n",
              "      <td>19.22</td>\n",
              "      <td>0</td>\n",
              "      <td>9</td>\n",
              "      <td>13</td>\n",
              "      <td>Earlier</td>\n",
              "      <td>3a653a41f6f9fc3d2a113cf8398680e8</td>\n",
              "      <td>75265</td>\n",
              "      <td>vianopolis</td>\n",
              "      <td>GO</td>\n",
              "    </tr>\n",
              "    <tr>\n",
              "      <th>3</th>\n",
              "      <td>949d5b44dbf5de918fe9c16f97b45f8a</td>\n",
              "      <td>f88197465ea7920adcdbec7375364d82</td>\n",
              "      <td>delivered</td>\n",
              "      <td>2017-11-18 19:28:06</td>\n",
              "      <td>2017-11-18 19:45:59</td>\n",
              "      <td>2017-11-22 13:39:59</td>\n",
              "      <td>2017-12-02 00:28:42</td>\n",
              "      <td>2017-12-15</td>\n",
              "      <td>1</td>\n",
              "      <td>d0b61bfb1de832b15ba9d266ca96e5b0</td>\n",
              "      <td>66922902710d126a0e7d26b0e3805106</td>\n",
              "      <td>2017-11-23 19:45:59</td>\n",
              "      <td>45.00</td>\n",
              "      <td>27.20</td>\n",
              "      <td>4</td>\n",
              "      <td>-16</td>\n",
              "      <td>-13</td>\n",
              "      <td>Earlier</td>\n",
              "      <td>7c142cf63193a1473d2e66489a9ae977</td>\n",
              "      <td>59296</td>\n",
              "      <td>sao goncalo do amarante</td>\n",
              "      <td>RN</td>\n",
              "    </tr>\n",
              "    <tr>\n",
              "      <th>4</th>\n",
              "      <td>ad21c59c0840e6cb83a9ceb5573f8159</td>\n",
              "      <td>8ab97904e6daea8866dbdbc4fb7aad2c</td>\n",
              "      <td>delivered</td>\n",
              "      <td>2018-02-13 21:18:39</td>\n",
              "      <td>2018-02-13 22:20:29</td>\n",
              "      <td>2018-02-14 19:46:34</td>\n",
              "      <td>2018-02-16 18:17:02</td>\n",
              "      <td>2018-02-26</td>\n",
              "      <td>1</td>\n",
              "      <td>65266b2da20d04dbe00c5c2d3bb7859e</td>\n",
              "      <td>2c9e548be18521d1c43cde1c582c6de8</td>\n",
              "      <td>2018-02-19 20:31:37</td>\n",
              "      <td>19.90</td>\n",
              "      <td>8.72</td>\n",
              "      <td>1</td>\n",
              "      <td>3</td>\n",
              "      <td>-10</td>\n",
              "      <td>Earlier</td>\n",
              "      <td>72632f0f9dd73dfee390c9b22eb56dd6</td>\n",
              "      <td>9195</td>\n",
              "      <td>santo andre</td>\n",
              "      <td>SP</td>\n",
              "    </tr>\n",
              "  </tbody>\n",
              "</table>\n",
              "</div>"
            ],
            "text/plain": [
              "                           order_id                       customer_id  \\\n",
              "0  e481f51cbdc54678b7cc49136f2d6af7  9ef432eb6251297304e76186b10a928d   \n",
              "1  53cdb2fc8bc7dce0b6741e2150273451  b0830fb4747a6c6d20dea0b8c802d7ef   \n",
              "2  47770eb9100c2d0c44946d9cf07ec65d  41ce2a54c0b03bf3443c3d931a367089   \n",
              "3  949d5b44dbf5de918fe9c16f97b45f8a  f88197465ea7920adcdbec7375364d82   \n",
              "4  ad21c59c0840e6cb83a9ceb5573f8159  8ab97904e6daea8866dbdbc4fb7aad2c   \n",
              "\n",
              "  order_status order_purchase_timestamp   order_approved_at  \\\n",
              "0    delivered      2017-10-02 10:56:33 2017-10-02 11:07:15   \n",
              "1    delivered      2018-07-24 20:41:37 2018-07-26 03:24:27   \n",
              "2    delivered      2018-08-08 08:38:49 2018-08-08 08:55:23   \n",
              "3    delivered      2017-11-18 19:28:06 2017-11-18 19:45:59   \n",
              "4    delivered      2018-02-13 21:18:39 2018-02-13 22:20:29   \n",
              "\n",
              "  order_delivered_carrier_date order_delivered_customer_date  \\\n",
              "0          2017-10-04 19:55:00           2017-10-10 21:25:13   \n",
              "1          2018-07-26 14:31:00           2018-08-07 15:27:45   \n",
              "2          2018-08-08 13:50:00           2018-08-17 18:06:29   \n",
              "3          2017-11-22 13:39:59           2017-12-02 00:28:42   \n",
              "4          2018-02-14 19:46:34           2018-02-16 18:17:02   \n",
              "\n",
              "  order_estimated_delivery_date  order_item_id  \\\n",
              "0                    2017-10-18              1   \n",
              "1                    2018-08-13              1   \n",
              "2                    2018-09-04              1   \n",
              "3                    2017-12-15              1   \n",
              "4                    2018-02-26              1   \n",
              "\n",
              "                         product_id                         seller_id  \\\n",
              "0  87285b34884572647811a353c7ac498a  3504c0cb71d7fa48d967e0e4c94d59d9   \n",
              "1  595fac2a385ac33a80bd5114aec74eb8  289cdb325fb7e7f891c38608bf9e0962   \n",
              "2  aa4383b373c6aca5d8797843e5594415  4869f7a5dfa277a7dca6462dcf3b52b2   \n",
              "3  d0b61bfb1de832b15ba9d266ca96e5b0  66922902710d126a0e7d26b0e3805106   \n",
              "4  65266b2da20d04dbe00c5c2d3bb7859e  2c9e548be18521d1c43cde1c582c6de8   \n",
              "\n",
              "  shipping_limit_date   price  freight_value  Order in Procces in day  \\\n",
              "0 2017-10-06 11:07:15   29.99           8.72                        2   \n",
              "1 2018-07-30 03:24:27  118.70          22.76                        0   \n",
              "2 2018-08-13 08:55:23  159.90          19.22                        0   \n",
              "3 2017-11-23 19:45:59   45.00          27.20                        4   \n",
              "4 2018-02-19 20:31:37   19.90           8.72                        1   \n",
              "\n",
              "   Day Delivered Customer  Variance Time Delivery Status  \\\n",
              "0                       8             -8         Earlier   \n",
              "1                     -17             -6         Earlier   \n",
              "2                       9             13         Earlier   \n",
              "3                     -16            -13         Earlier   \n",
              "4                       3            -10         Earlier   \n",
              "\n",
              "                 customer_unique_id  customer_zip_code_prefix  \\\n",
              "0  7c396fd4830fd04220f754e42b4e5bff                      3149   \n",
              "1  af07308b275d755c9edb36a90c618231                     47813   \n",
              "2  3a653a41f6f9fc3d2a113cf8398680e8                     75265   \n",
              "3  7c142cf63193a1473d2e66489a9ae977                     59296   \n",
              "4  72632f0f9dd73dfee390c9b22eb56dd6                      9195   \n",
              "\n",
              "             customer_city customer_state  \n",
              "0                sao paulo             SP  \n",
              "1                barreiras             BA  \n",
              "2               vianopolis             GO  \n",
              "3  sao goncalo do amarante             RN  \n",
              "4              santo andre             SP  "
            ]
          },
          "execution_count": 62,
          "metadata": {},
          "output_type": "execute_result"
        }
      ],
      "source": [
        "orders = orderItem.merge(cust, how = 'inner', on = 'customer_id')\n",
        "print(orders.shape)\n",
        "orders.head()"
      ]
    },
    {
      "cell_type": "markdown",
      "metadata": {},
      "source": [
        "Combine cust data with orderItem into orders\n"
      ]
    },
    {
      "cell_type": "code",
      "execution_count": 63,
      "metadata": {},
      "outputs": [
        {
          "data": {
            "text/html": [
              "<div>\n",
              "<style scoped>\n",
              "    .dataframe tbody tr th:only-of-type {\n",
              "        vertical-align: middle;\n",
              "    }\n",
              "\n",
              "    .dataframe tbody tr th {\n",
              "        vertical-align: top;\n",
              "    }\n",
              "\n",
              "    .dataframe thead th {\n",
              "        text-align: right;\n",
              "    }\n",
              "</style>\n",
              "<table border=\"1\" class=\"dataframe\">\n",
              "  <thead>\n",
              "    <tr style=\"text-align: right;\">\n",
              "      <th></th>\n",
              "      <th>customer_id</th>\n",
              "      <th>customer_city</th>\n",
              "    </tr>\n",
              "    <tr>\n",
              "      <th>Delivery Status</th>\n",
              "      <th></th>\n",
              "      <th></th>\n",
              "    </tr>\n",
              "  </thead>\n",
              "  <tbody>\n",
              "    <tr>\n",
              "      <th>Delay</th>\n",
              "      <td>8974</td>\n",
              "      <td>1412</td>\n",
              "    </tr>\n",
              "    <tr>\n",
              "      <th>Earlier</th>\n",
              "      <td>89692</td>\n",
              "      <td>3971</td>\n",
              "    </tr>\n",
              "  </tbody>\n",
              "</table>\n",
              "</div>"
            ],
            "text/plain": [
              "                 customer_id  customer_city\n",
              "Delivery Status                            \n",
              "Delay                   8974           1412\n",
              "Earlier                89692           3971"
            ]
          },
          "execution_count": 63,
          "metadata": {},
          "output_type": "execute_result"
        }
      ],
      "source": [
        "\n",
        "orders.groupby(by='Delivery Status').agg({\n",
        "    'customer_id':'nunique',\n",
        "    'customer_city':'nunique'\n",
        "\n",
        "})"
      ]
    },
    {
      "cell_type": "code",
      "execution_count": 64,
      "metadata": {},
      "outputs": [
        {
          "data": {
            "text/html": [
              "<div>\n",
              "<style scoped>\n",
              "    .dataframe tbody tr th:only-of-type {\n",
              "        vertical-align: middle;\n",
              "    }\n",
              "\n",
              "    .dataframe tbody tr th {\n",
              "        vertical-align: top;\n",
              "    }\n",
              "\n",
              "    .dataframe thead th {\n",
              "        text-align: right;\n",
              "    }\n",
              "</style>\n",
              "<table border=\"1\" class=\"dataframe\">\n",
              "  <thead>\n",
              "    <tr style=\"text-align: right;\">\n",
              "      <th>Delivery Status</th>\n",
              "      <th>Delay</th>\n",
              "      <th>Earlier</th>\n",
              "    </tr>\n",
              "    <tr>\n",
              "      <th>customer_city</th>\n",
              "      <th></th>\n",
              "      <th></th>\n",
              "    </tr>\n",
              "  </thead>\n",
              "  <tbody>\n",
              "    <tr>\n",
              "      <th>zortea</th>\n",
              "      <td>0</td>\n",
              "      <td>2</td>\n",
              "    </tr>\n",
              "    <tr>\n",
              "      <th>ze doca</th>\n",
              "      <td>2</td>\n",
              "      <td>3</td>\n",
              "    </tr>\n",
              "    <tr>\n",
              "      <th>zacarias</th>\n",
              "      <td>1</td>\n",
              "      <td>1</td>\n",
              "    </tr>\n",
              "    <tr>\n",
              "      <th>xique-xique</th>\n",
              "      <td>0</td>\n",
              "      <td>3</td>\n",
              "    </tr>\n",
              "    <tr>\n",
              "      <th>xinguara</th>\n",
              "      <td>2</td>\n",
              "      <td>8</td>\n",
              "    </tr>\n",
              "    <tr>\n",
              "      <th>...</th>\n",
              "      <td>...</td>\n",
              "      <td>...</td>\n",
              "    </tr>\n",
              "    <tr>\n",
              "      <th>abaiara</th>\n",
              "      <td>1</td>\n",
              "      <td>1</td>\n",
              "    </tr>\n",
              "    <tr>\n",
              "      <th>abaetetuba</th>\n",
              "      <td>4</td>\n",
              "      <td>10</td>\n",
              "    </tr>\n",
              "    <tr>\n",
              "      <th>abaete</th>\n",
              "      <td>1</td>\n",
              "      <td>11</td>\n",
              "    </tr>\n",
              "    <tr>\n",
              "      <th>abadiania</th>\n",
              "      <td>0</td>\n",
              "      <td>1</td>\n",
              "    </tr>\n",
              "    <tr>\n",
              "      <th>abadia dos dourados</th>\n",
              "      <td>0</td>\n",
              "      <td>3</td>\n",
              "    </tr>\n",
              "  </tbody>\n",
              "</table>\n",
              "<p>4110 rows × 2 columns</p>\n",
              "</div>"
            ],
            "text/plain": [
              "Delivery Status      Delay  Earlier\n",
              "customer_city                      \n",
              "zortea                   0        2\n",
              "ze doca                  2        3\n",
              "zacarias                 1        1\n",
              "xique-xique              0        3\n",
              "xinguara                 2        8\n",
              "...                    ...      ...\n",
              "abaiara                  1        1\n",
              "abaetetuba               4       10\n",
              "abaete                   1       11\n",
              "abadiania                0        1\n",
              "abadia dos dourados      0        3\n",
              "\n",
              "[4110 rows x 2 columns]"
            ]
          },
          "execution_count": 64,
          "metadata": {},
          "output_type": "execute_result"
        }
      ],
      "source": [
        "statusDelivbyCity = orders.groupby(['customer_city','Delivery Status']).size().unstack(fill_value=0).sort_values(by='customer_city', ascending=False)\n",
        "statusDelivbyCity\n"
      ]
    },
    {
      "cell_type": "markdown",
      "metadata": {},
      "source": [
        "##### Sellers Distribution"
      ]
    },
    {
      "cell_type": "code",
      "execution_count": 53,
      "metadata": {},
      "outputs": [],
      "source": [
        "ordersSellers = orderItem.merge(sellers, how='inner',on = 'seller_id')"
      ]
    },
    {
      "cell_type": "markdown",
      "metadata": {},
      "source": [
        "\n",
        "combine orders data with sellers to dig deeper insights"
      ]
    },
    {
      "cell_type": "code",
      "execution_count": 54,
      "metadata": {},
      "outputs": [
        {
          "data": {
            "text/plain": [
              "seller_city\n",
              "sao paulo         694\n",
              "curitiba          127\n",
              "rio de janeiro     96\n",
              "belo horizonte     68\n",
              "ribeirao preto     52\n",
              "guarulhos          50\n",
              "ibitinga           49\n",
              "santo andre        45\n",
              "campinas           41\n",
              "maringa            40\n",
              "Name: seller_id, dtype: int64"
            ]
          },
          "execution_count": 54,
          "metadata": {},
          "output_type": "execute_result"
        }
      ],
      "source": [
        "top10SellersLocation = ordersSellers.groupby('seller_city').seller_id.nunique().sort_values(ascending=False).head(10)\n",
        "top10SellersLocation"
      ]
    },
    {
      "cell_type": "code",
      "execution_count": 55,
      "metadata": {},
      "outputs": [
        {
          "data": {
            "text/plain": [
              "seller_city\n",
              "04482255           1\n",
              "nova lima          1\n",
              "nhandeara          1\n",
              "neopolis           1\n",
              "muriae             1\n",
              "muqui              1\n",
              "mucambo            1\n",
              "monteiro lobato    1\n",
              "monte siao         1\n",
              "monte alto         1\n",
              "Name: seller_id, dtype: int64"
            ]
          },
          "execution_count": 55,
          "metadata": {},
          "output_type": "execute_result"
        }
      ],
      "source": [
        "bottom10SellersLocation = ordersSellers.groupby('seller_city').seller_id.nunique().sort_values(ascending=True).head(10)\n",
        "bottom10SellersLocation"
      ]
    },
    {
      "cell_type": "code",
      "execution_count": 56,
      "metadata": {},
      "outputs": [
        {
          "data": {
            "image/png": "[encoded data removed]",
            "text/plain": [
              "<Figure size 1000x500 with 1 Axes>"
            ]
          },
          "metadata": {},
          "output_type": "display_data"
        }
      ],
      "source": [
        "\n",
        "barChart(top10SellersLocation, ylabel = 'Count', xlabel='City')"
      ]
    },
    {
      "cell_type": "markdown",
      "metadata": {},
      "source": [
        "The city of Sau Paulo is the city with the most sellers with 694 sellers, and the next city is the city of Curitibia\n"
      ]
    },
    {
      "cell_type": "markdown",
      "metadata": {},
      "source": [
        "##### Reviews"
      ]
    },
    {
      "cell_type": "code",
      "execution_count": 69,
      "metadata": {},
      "outputs": [
        {
          "name": "stdout",
          "output_type": "stream",
          "text": [
            "(112650, 20)\n",
            "(99224, 7)\n"
          ]
        }
      ],
      "source": [
        "print(orderProduct.shape)\n",
        "print(reviews.shape)"
      ]
    },
    {
      "cell_type": "code",
      "execution_count": 70,
      "metadata": {},
      "outputs": [
        {
          "name": "stdout",
          "output_type": "stream",
          "text": [
            "(112372, 26)\n"
          ]
        },
        {
          "data": {
            "text/html": [
              "<div>\n",
              "<style scoped>\n",
              "    .dataframe tbody tr th:only-of-type {\n",
              "        vertical-align: middle;\n",
              "    }\n",
              "\n",
              "    .dataframe tbody tr th {\n",
              "        vertical-align: top;\n",
              "    }\n",
              "\n",
              "    .dataframe thead th {\n",
              "        text-align: right;\n",
              "    }\n",
              "</style>\n",
              "<table border=\"1\" class=\"dataframe\">\n",
              "  <thead>\n",
              "    <tr style=\"text-align: right;\">\n",
              "      <th></th>\n",
              "      <th>order_id</th>\n",
              "      <th>customer_id</th>\n",
              "      <th>order_status</th>\n",
              "      <th>order_purchase_timestamp</th>\n",
              "      <th>order_approved_at</th>\n",
              "      <th>order_delivered_carrier_date</th>\n",
              "      <th>order_delivered_customer_date</th>\n",
              "      <th>order_estimated_delivery_date</th>\n",
              "      <th>order_item_id</th>\n",
              "      <th>product_id</th>\n",
              "      <th>seller_id</th>\n",
              "      <th>shipping_limit_date</th>\n",
              "      <th>price</th>\n",
              "      <th>freight_value</th>\n",
              "      <th>Order in Procces in day</th>\n",
              "      <th>Day Delivered Customer</th>\n",
              "      <th>Variance Time</th>\n",
              "      <th>Delivery Status</th>\n",
              "      <th>product_category_name</th>\n",
              "      <th>product_category_name_english</th>\n",
              "      <th>review_id</th>\n",
              "      <th>review_score</th>\n",
              "      <th>review_comment_title</th>\n",
              "      <th>review_comment_message</th>\n",
              "      <th>review_creation_date</th>\n",
              "      <th>review_answer_timestamp</th>\n",
              "    </tr>\n",
              "  </thead>\n",
              "  <tbody>\n",
              "    <tr>\n",
              "      <th>0</th>\n",
              "      <td>e481f51cbdc54678b7cc49136f2d6af7</td>\n",
              "      <td>9ef432eb6251297304e76186b10a928d</td>\n",
              "      <td>delivered</td>\n",
              "      <td>2017-10-02 10:56:33</td>\n",
              "      <td>2017-10-02 11:07:15</td>\n",
              "      <td>2017-10-04 19:55:00</td>\n",
              "      <td>2017-10-10 21:25:13</td>\n",
              "      <td>2017-10-18</td>\n",
              "      <td>1</td>\n",
              "      <td>87285b34884572647811a353c7ac498a</td>\n",
              "      <td>3504c0cb71d7fa48d967e0e4c94d59d9</td>\n",
              "      <td>2017-10-06 11:07:15</td>\n",
              "      <td>29.99</td>\n",
              "      <td>8.72</td>\n",
              "      <td>2</td>\n",
              "      <td>8</td>\n",
              "      <td>-8</td>\n",
              "      <td>Earlier</td>\n",
              "      <td>utilidades_domesticas</td>\n",
              "      <td>housewares</td>\n",
              "      <td>a54f0611adc9ed256b57ede6b6eb5114</td>\n",
              "      <td>4</td>\n",
              "      <td>NaN</td>\n",
              "      <td>Não testei o produto ainda, mas ele veio corre...</td>\n",
              "      <td>2017-10-11 00:00:00</td>\n",
              "      <td>2017-10-12 03:43:48</td>\n",
              "    </tr>\n",
              "    <tr>\n",
              "      <th>1</th>\n",
              "      <td>53cdb2fc8bc7dce0b6741e2150273451</td>\n",
              "      <td>b0830fb4747a6c6d20dea0b8c802d7ef</td>\n",
              "      <td>delivered</td>\n",
              "      <td>2018-07-24 20:41:37</td>\n",
              "      <td>2018-07-26 03:24:27</td>\n",
              "      <td>2018-07-26 14:31:00</td>\n",
              "      <td>2018-08-07 15:27:45</td>\n",
              "      <td>2018-08-13</td>\n",
              "      <td>1</td>\n",
              "      <td>595fac2a385ac33a80bd5114aec74eb8</td>\n",
              "      <td>289cdb325fb7e7f891c38608bf9e0962</td>\n",
              "      <td>2018-07-30 03:24:27</td>\n",
              "      <td>118.70</td>\n",
              "      <td>22.76</td>\n",
              "      <td>0</td>\n",
              "      <td>-17</td>\n",
              "      <td>-6</td>\n",
              "      <td>Earlier</td>\n",
              "      <td>perfumaria</td>\n",
              "      <td>perfumery</td>\n",
              "      <td>8d5266042046a06655c8db133d120ba5</td>\n",
              "      <td>4</td>\n",
              "      <td>Muito boa a loja</td>\n",
              "      <td>Muito bom o produto.</td>\n",
              "      <td>2018-08-08 00:00:00</td>\n",
              "      <td>2018-08-08 18:37:50</td>\n",
              "    </tr>\n",
              "    <tr>\n",
              "      <th>2</th>\n",
              "      <td>47770eb9100c2d0c44946d9cf07ec65d</td>\n",
              "      <td>41ce2a54c0b03bf3443c3d931a367089</td>\n",
              "      <td>delivered</td>\n",
              "      <td>2018-08-08 08:38:49</td>\n",
              "      <td>2018-08-08 08:55:23</td>\n",
              "      <td>2018-08-08 13:50:00</td>\n",
              "      <td>2018-08-17 18:06:29</td>\n",
              "      <td>2018-09-04</td>\n",
              "      <td>1</td>\n",
              "      <td>aa4383b373c6aca5d8797843e5594415</td>\n",
              "      <td>4869f7a5dfa277a7dca6462dcf3b52b2</td>\n",
              "      <td>2018-08-13 08:55:23</td>\n",
              "      <td>159.90</td>\n",
              "      <td>19.22</td>\n",
              "      <td>0</td>\n",
              "      <td>9</td>\n",
              "      <td>13</td>\n",
              "      <td>Earlier</td>\n",
              "      <td>automotivo</td>\n",
              "      <td>auto</td>\n",
              "      <td>e73b67b67587f7644d5bd1a52deb1b01</td>\n",
              "      <td>5</td>\n",
              "      <td>NaN</td>\n",
              "      <td>NaN</td>\n",
              "      <td>2018-08-18 00:00:00</td>\n",
              "      <td>2018-08-22 19:07:58</td>\n",
              "    </tr>\n",
              "    <tr>\n",
              "      <th>3</th>\n",
              "      <td>949d5b44dbf5de918fe9c16f97b45f8a</td>\n",
              "      <td>f88197465ea7920adcdbec7375364d82</td>\n",
              "      <td>delivered</td>\n",
              "      <td>2017-11-18 19:28:06</td>\n",
              "      <td>2017-11-18 19:45:59</td>\n",
              "      <td>2017-11-22 13:39:59</td>\n",
              "      <td>2017-12-02 00:28:42</td>\n",
              "      <td>2017-12-15</td>\n",
              "      <td>1</td>\n",
              "      <td>d0b61bfb1de832b15ba9d266ca96e5b0</td>\n",
              "      <td>66922902710d126a0e7d26b0e3805106</td>\n",
              "      <td>2017-11-23 19:45:59</td>\n",
              "      <td>45.00</td>\n",
              "      <td>27.20</td>\n",
              "      <td>4</td>\n",
              "      <td>-16</td>\n",
              "      <td>-13</td>\n",
              "      <td>Earlier</td>\n",
              "      <td>pet_shop</td>\n",
              "      <td>pet_shop</td>\n",
              "      <td>359d03e676b3c069f62cadba8dd3f6e8</td>\n",
              "      <td>5</td>\n",
              "      <td>NaN</td>\n",
              "      <td>O produto foi exatamente o que eu esperava e e...</td>\n",
              "      <td>2017-12-03 00:00:00</td>\n",
              "      <td>2017-12-05 19:21:58</td>\n",
              "    </tr>\n",
              "    <tr>\n",
              "      <th>4</th>\n",
              "      <td>ad21c59c0840e6cb83a9ceb5573f8159</td>\n",
              "      <td>8ab97904e6daea8866dbdbc4fb7aad2c</td>\n",
              "      <td>delivered</td>\n",
              "      <td>2018-02-13 21:18:39</td>\n",
              "      <td>2018-02-13 22:20:29</td>\n",
              "      <td>2018-02-14 19:46:34</td>\n",
              "      <td>2018-02-16 18:17:02</td>\n",
              "      <td>2018-02-26</td>\n",
              "      <td>1</td>\n",
              "      <td>65266b2da20d04dbe00c5c2d3bb7859e</td>\n",
              "      <td>2c9e548be18521d1c43cde1c582c6de8</td>\n",
              "      <td>2018-02-19 20:31:37</td>\n",
              "      <td>19.90</td>\n",
              "      <td>8.72</td>\n",
              "      <td>1</td>\n",
              "      <td>3</td>\n",
              "      <td>-10</td>\n",
              "      <td>Earlier</td>\n",
              "      <td>papelaria</td>\n",
              "      <td>stationery</td>\n",
              "      <td>e50934924e227544ba8246aeb3770dd4</td>\n",
              "      <td>5</td>\n",
              "      <td>NaN</td>\n",
              "      <td>NaN</td>\n",
              "      <td>2018-02-17 00:00:00</td>\n",
              "      <td>2018-02-18 13:02:51</td>\n",
              "    </tr>\n",
              "  </tbody>\n",
              "</table>\n",
              "</div>"
            ],
            "text/plain": [
              "                           order_id                       customer_id  \\\n",
              "0  e481f51cbdc54678b7cc49136f2d6af7  9ef432eb6251297304e76186b10a928d   \n",
              "1  53cdb2fc8bc7dce0b6741e2150273451  b0830fb4747a6c6d20dea0b8c802d7ef   \n",
              "2  47770eb9100c2d0c44946d9cf07ec65d  41ce2a54c0b03bf3443c3d931a367089   \n",
              "3  949d5b44dbf5de918fe9c16f97b45f8a  f88197465ea7920adcdbec7375364d82   \n",
              "4  ad21c59c0840e6cb83a9ceb5573f8159  8ab97904e6daea8866dbdbc4fb7aad2c   \n",
              "\n",
              "  order_status order_purchase_timestamp   order_approved_at  \\\n",
              "0    delivered      2017-10-02 10:56:33 2017-10-02 11:07:15   \n",
              "1    delivered      2018-07-24 20:41:37 2018-07-26 03:24:27   \n",
              "2    delivered      2018-08-08 08:38:49 2018-08-08 08:55:23   \n",
              "3    delivered      2017-11-18 19:28:06 2017-11-18 19:45:59   \n",
              "4    delivered      2018-02-13 21:18:39 2018-02-13 22:20:29   \n",
              "\n",
              "  order_delivered_carrier_date order_delivered_customer_date  \\\n",
              "0          2017-10-04 19:55:00           2017-10-10 21:25:13   \n",
              "1          2018-07-26 14:31:00           2018-08-07 15:27:45   \n",
              "2          2018-08-08 13:50:00           2018-08-17 18:06:29   \n",
              "3          2017-11-22 13:39:59           2017-12-02 00:28:42   \n",
              "4          2018-02-14 19:46:34           2018-02-16 18:17:02   \n",
              "\n",
              "  order_estimated_delivery_date  order_item_id  \\\n",
              "0                    2017-10-18              1   \n",
              "1                    2018-08-13              1   \n",
              "2                    2018-09-04              1   \n",
              "3                    2017-12-15              1   \n",
              "4                    2018-02-26              1   \n",
              "\n",
              "                         product_id                         seller_id  \\\n",
              "0  87285b34884572647811a353c7ac498a  3504c0cb71d7fa48d967e0e4c94d59d9   \n",
              "1  595fac2a385ac33a80bd5114aec74eb8  289cdb325fb7e7f891c38608bf9e0962   \n",
              "2  aa4383b373c6aca5d8797843e5594415  4869f7a5dfa277a7dca6462dcf3b52b2   \n",
              "3  d0b61bfb1de832b15ba9d266ca96e5b0  66922902710d126a0e7d26b0e3805106   \n",
              "4  65266b2da20d04dbe00c5c2d3bb7859e  2c9e548be18521d1c43cde1c582c6de8   \n",
              "\n",
              "  shipping_limit_date   price  freight_value  Order in Procces in day  \\\n",
              "0 2017-10-06 11:07:15   29.99           8.72                        2   \n",
              "1 2018-07-30 03:24:27  118.70          22.76                        0   \n",
              "2 2018-08-13 08:55:23  159.90          19.22                        0   \n",
              "3 2017-11-23 19:45:59   45.00          27.20                        4   \n",
              "4 2018-02-19 20:31:37   19.90           8.72                        1   \n",
              "\n",
              "   Day Delivered Customer  Variance Time Delivery Status  \\\n",
              "0                       8             -8         Earlier   \n",
              "1                     -17             -6         Earlier   \n",
              "2                       9             13         Earlier   \n",
              "3                     -16            -13         Earlier   \n",
              "4                       3            -10         Earlier   \n",
              "\n",
              "   product_category_name product_category_name_english  \\\n",
              "0  utilidades_domesticas                    housewares   \n",
              "1             perfumaria                     perfumery   \n",
              "2             automotivo                          auto   \n",
              "3               pet_shop                      pet_shop   \n",
              "4              papelaria                    stationery   \n",
              "\n",
              "                          review_id  review_score review_comment_title  \\\n",
              "0  a54f0611adc9ed256b57ede6b6eb5114             4                  NaN   \n",
              "1  8d5266042046a06655c8db133d120ba5             4     Muito boa a loja   \n",
              "2  e73b67b67587f7644d5bd1a52deb1b01             5                  NaN   \n",
              "3  359d03e676b3c069f62cadba8dd3f6e8             5                  NaN   \n",
              "4  e50934924e227544ba8246aeb3770dd4             5                  NaN   \n",
              "\n",
              "                              review_comment_message review_creation_date  \\\n",
              "0  Não testei o produto ainda, mas ele veio corre...  2017-10-11 00:00:00   \n",
              "1                               Muito bom o produto.  2018-08-08 00:00:00   \n",
              "2                                                NaN  2018-08-18 00:00:00   \n",
              "3  O produto foi exatamente o que eu esperava e e...  2017-12-03 00:00:00   \n",
              "4                                                NaN  2018-02-17 00:00:00   \n",
              "\n",
              "  review_answer_timestamp  \n",
              "0     2017-10-12 03:43:48  \n",
              "1     2018-08-08 18:37:50  \n",
              "2     2018-08-22 19:07:58  \n",
              "3     2017-12-05 19:21:58  \n",
              "4     2018-02-18 13:02:51  "
            ]
          },
          "execution_count": 70,
          "metadata": {},
          "output_type": "execute_result"
        }
      ],
      "source": [
        "ordersReviews = orderProduct.merge(reviews, how='inner',on='order_id')\n",
        "print(ordersReviews.shape)\n",
        "ordersReviews.head()"
      ]
    },
    {
      "cell_type": "code",
      "execution_count": 71,
      "metadata": {},
      "outputs": [
        {
          "data": {
            "text/plain": [
              "count    112372.000000\n",
              "mean          4.032473\n",
              "std           1.387849\n",
              "min           1.000000\n",
              "25%           4.000000\n",
              "50%           5.000000\n",
              "75%           5.000000\n",
              "max           5.000000\n",
              "Name: review_score, dtype: float64"
            ]
          },
          "execution_count": 71,
          "metadata": {},
          "output_type": "execute_result"
        }
      ],
      "source": [
        "ordersReviews['review_score'].describe()"
      ]
    },
    {
      "cell_type": "markdown",
      "metadata": {},
      "source": [
        "Overall ordersReviews purchased by customers received an average rating of 4\n"
      ]
    },
    {
      "cell_type": "code",
      "execution_count": 72,
      "metadata": {},
      "outputs": [
        {
          "data": {
            "text/html": [
              "<div>\n",
              "<style scoped>\n",
              "    .dataframe tbody tr th:only-of-type {\n",
              "        vertical-align: middle;\n",
              "    }\n",
              "\n",
              "    .dataframe tbody tr th {\n",
              "        vertical-align: top;\n",
              "    }\n",
              "\n",
              "    .dataframe thead tr th {\n",
              "        text-align: left;\n",
              "    }\n",
              "\n",
              "    .dataframe thead tr:last-of-type th {\n",
              "        text-align: right;\n",
              "    }\n",
              "</style>\n",
              "<table border=\"1\" class=\"dataframe\">\n",
              "  <thead>\n",
              "    <tr>\n",
              "      <th></th>\n",
              "      <th colspan=\"3\" halign=\"left\">review_score</th>\n",
              "    </tr>\n",
              "    <tr>\n",
              "      <th></th>\n",
              "      <th>min</th>\n",
              "      <th>max</th>\n",
              "      <th>mean</th>\n",
              "    </tr>\n",
              "    <tr>\n",
              "      <th>product_category_name_english</th>\n",
              "      <th></th>\n",
              "      <th></th>\n",
              "      <th></th>\n",
              "    </tr>\n",
              "  </thead>\n",
              "  <tbody>\n",
              "    <tr>\n",
              "      <th>agro_industry_and_commerce</th>\n",
              "      <td>1</td>\n",
              "      <td>5</td>\n",
              "      <td>4.000000</td>\n",
              "    </tr>\n",
              "    <tr>\n",
              "      <th>air_conditioning</th>\n",
              "      <td>1</td>\n",
              "      <td>5</td>\n",
              "      <td>3.969178</td>\n",
              "    </tr>\n",
              "    <tr>\n",
              "      <th>art</th>\n",
              "      <td>1</td>\n",
              "      <td>5</td>\n",
              "      <td>3.937198</td>\n",
              "    </tr>\n",
              "    <tr>\n",
              "      <th>arts_and_craftmanship</th>\n",
              "      <td>1</td>\n",
              "      <td>5</td>\n",
              "      <td>4.125000</td>\n",
              "    </tr>\n",
              "    <tr>\n",
              "      <th>audio</th>\n",
              "      <td>1</td>\n",
              "      <td>5</td>\n",
              "      <td>3.825485</td>\n",
              "    </tr>\n",
              "    <tr>\n",
              "      <th>...</th>\n",
              "      <td>...</td>\n",
              "      <td>...</td>\n",
              "      <td>...</td>\n",
              "    </tr>\n",
              "    <tr>\n",
              "      <th>stationery</th>\n",
              "      <td>1</td>\n",
              "      <td>5</td>\n",
              "      <td>4.193857</td>\n",
              "    </tr>\n",
              "    <tr>\n",
              "      <th>tablets_printing_image</th>\n",
              "      <td>1</td>\n",
              "      <td>5</td>\n",
              "      <td>4.123457</td>\n",
              "    </tr>\n",
              "    <tr>\n",
              "      <th>telephony</th>\n",
              "      <td>1</td>\n",
              "      <td>5</td>\n",
              "      <td>3.946867</td>\n",
              "    </tr>\n",
              "    <tr>\n",
              "      <th>toys</th>\n",
              "      <td>1</td>\n",
              "      <td>5</td>\n",
              "      <td>4.158641</td>\n",
              "    </tr>\n",
              "    <tr>\n",
              "      <th>watches_gifts</th>\n",
              "      <td>1</td>\n",
              "      <td>5</td>\n",
              "      <td>4.019160</td>\n",
              "    </tr>\n",
              "  </tbody>\n",
              "</table>\n",
              "<p>71 rows × 3 columns</p>\n",
              "</div>"
            ],
            "text/plain": [
              "                              review_score              \n",
              "                                       min max      mean\n",
              "product_category_name_english                           \n",
              "agro_industry_and_commerce               1   5  4.000000\n",
              "air_conditioning                         1   5  3.969178\n",
              "art                                      1   5  3.937198\n",
              "arts_and_craftmanship                    1   5  4.125000\n",
              "audio                                    1   5  3.825485\n",
              "...                                    ...  ..       ...\n",
              "stationery                               1   5  4.193857\n",
              "tablets_printing_image                   1   5  4.123457\n",
              "telephony                                1   5  3.946867\n",
              "toys                                     1   5  4.158641\n",
              "watches_gifts                            1   5  4.019160\n",
              "\n",
              "[71 rows x 3 columns]"
            ]
          },
          "execution_count": 72,
          "metadata": {},
          "output_type": "execute_result"
        }
      ],
      "source": [
        "categoryScore = ordersReviews.groupby(by='product_category_name_english').agg({\n",
        "    'review_score' : ['min','max','mean']\n",
        "})\n",
        "categoryScore"
      ]
    },
    {
      "cell_type": "code",
      "execution_count": 73,
      "metadata": {},
      "outputs": [
        {
          "name": "stdout",
          "output_type": "stream",
          "text": [
            "                                      review_score              \n",
            "                                               min max      mean\n",
            "product_category_name_english                                   \n",
            "cds_dvds_musicals                                3   5  4.642857\n",
            "fashion_childrens_clothes                        1   5  4.500000\n",
            "books_general_interest                           1   5  4.446266\n",
            "costruction_tools_tools                          1   5  4.444444\n",
            "flowers                                          1   5  4.419355\n",
            "books_imported                                   1   5  4.400000\n",
            "books_technical                                  1   5  4.368421\n",
            "food_drink                                       1   5  4.315412\n",
            "luggage_accessories                              1   5  4.315257\n",
            "small_appliances_home_oven_and_coffee            1   5  4.302632\n",
            "fashion_sport                                    1   5  4.258065\n",
            "fashion_shoes                                    1   5  4.233716\n",
            "food                                             1   5  4.218182\n",
            "music                                            1   5  4.210526\n",
            "cine_photo                                       1   5  4.205479\n",
            "stationery                                       1   5  4.193857\n",
            "pet_shop                                         1   5  4.185147\n",
            "computers                                        1   5  4.175000\n",
            "home_appliances                                  1   5  4.172457\n",
            "perfumery                                        1   5  4.161941\n"
          ]
        }
      ],
      "source": [
        "top20Category = categoryScore.sort_values(by =('review_score', 'mean'), ascending=False).head(20)\n",
        "print(top20Category)"
      ]
    },
    {
      "cell_type": "code",
      "execution_count": 74,
      "metadata": {},
      "outputs": [
        {
          "name": "stdout",
          "output_type": "stream",
          "text": [
            "                                        review_score              \n",
            "                                                 min max      mean\n",
            "product_category_name_english                                     \n",
            "security_and_services                              1   4  2.500000\n",
            "diapers_and_hygiene                                1   5  3.256410\n",
            "office_furniture                                   1   5  3.493183\n",
            "home_comfort_2                                     1   5  3.629630\n",
            "fashion_male_clothing                              1   5  3.641221\n",
            "fixed_telephony                                    1   5  3.683206\n",
            "party_supplies                                     1   5  3.767442\n",
            "fashio_female_clothing                             1   5  3.780000\n",
            "furniture_mattress_and_upholstery                  1   5  3.815789\n",
            "audio                                              1   5  3.825485\n",
            "home_confort                                       1   5  3.829885\n",
            "construction_tools_safety                          1   5  3.844560\n",
            "bed_bath_table                                     1   5  3.895663\n",
            "furniture_decor                                    1   5  3.903493\n",
            "furniture_living_room                              1   5  3.904382\n",
            "computers_accessories                              1   5  3.930819\n",
            "art                                                1   5  3.937198\n",
            "home_construction                                  1   5  3.940000\n",
            "telephony                                          1   5  3.946867\n",
            "kitchen_dining_laundry_garden_furniture            1   5  3.964286\n"
          ]
        }
      ],
      "source": [
        "bottom20Category = categoryScore.sort_values(by =('review_score', 'mean'), ascending=True).head(20)\n",
        "print(bottom20Category)"
      ]
    },
    {
      "cell_type": "markdown",
      "metadata": {},
      "source": [
        "##### Trend Price"
      ]
    },
    {
      "cell_type": "code",
      "execution_count": 75,
      "metadata": {},
      "outputs": [],
      "source": [
        "monthlyPrice = orderItem.groupby(orderItem['order_purchase_timestamp'].dt.to_period('M'))['price'].mean()\n"
      ]
    },
    {
      "cell_type": "code",
      "execution_count": 76,
      "metadata": {},
      "outputs": [
        {
          "data": {
            "image/png": "[encoded data removed]",
            "text/plain": [
              "<Figure size 1500x500 with 1 Axes>"
            ]
          },
          "metadata": {},
          "output_type": "display_data"
        }
      ],
      "source": [
        "plt.figure(figsize=(15,5))\n",
        "plt.plot(monthlyPrice.index.to_timestamp(), monthlyPrice.values, marker='o', linestyle='-',color = 'c', markerfacecolor='r' )\n",
        "plt.title('Average Monthly Price')\n",
        "plt.grid(True)\n",
        "plt.ylabel('Average in Dollar')\n",
        "plt.xlabel('Time')\n",
        "plt.show()\n",
        "\n"
      ]
    },
    {
      "cell_type": "markdown",
      "metadata": {},
      "source": [
        "in this section it can be seen that the average price of all products purchased by customers over time experienced ups and downs, with the lowest average price at the end of 2016 and the peak at the end of 2017 experiencing a significant increase"
      ]
    },
    {
      "cell_type": "markdown",
      "metadata": {},
      "source": [
        "## **SUMMARY**\n",
        "\n",
        "- The Sao Paulo region stands out as a hub of activity with the most solid customer base.\n",
        "- The most popular product category is bet_bath_table, indicating the primary preference of customers for household needs. This is followed by healthy_beauty, reflecting awareness of health and beauty.\n",
        "- Credit cards dominate the payment method, especially for installment payments, highlighting customers' preference for convenience and flexibility in transactions.\n",
        "- Ordering patterns show a strong trend of activity both during the day and at night, indicating diverse customer needs.\n",
        "- Approximately 90.5% of orders arrive earlier than estimated, indicating excellence in order management and delivery. Meanwhile, 9.5% of delayed orders highlight areas for improvement in logistics management.\n",
        "- Sao Paulo emerges as the sales hub with the highest number of sellers, reflecting a large market potential in the region. This is followed by Curitibia, indicating economic development in that area.\n",
        "- The average order rating reaches 4, indicating overall customer satisfaction.\n",
        "- The average product prices experience significant fluctuations, with a peak occurring at the end of 2017, suggesting changes in customer purchasing behavior that need further understanding."
      ]
    },
    {
      "cell_type": "code",
      "execution_count": 77,
      "metadata": {},
      "outputs": [],
      "source": [
        "\n",
        "sellerGeoDataset['latitude_longitude'] = sellerGeoDataset['geolocation_lat'].astype(str) + ', ' + sellerGeoDataset['geolocation_lng'].astype(str)\n",
        "custgeo['latitude_longitude'] = custgeo['geolocation_lat'].astype(str) + ', ' + custgeo['geolocation_lng'].astype(str)"
      ]
    },
    {
      "cell_type": "markdown",
      "metadata": {},
      "source": [
        "At this stage I created a combined column of latitude and longitude in one column to the sellergeodataset and custgeo datasets to make it easier to see the location distribution clearly."
      ]
    },
    {
      "cell_type": "markdown",
      "metadata": {},
      "source": [
        "## **Convert to CSV**\n",
        "We will convert everything that has been analyzed into a CSV file to make it easier to create a dashboard"
      ]
    },
    {
      "cell_type": "code",
      "execution_count": null,
      "metadata": {},
      "outputs": [],
      "source": [
        "\n",
        "sellerGeoDataset.to_csv('seller-geo-dataset.csv', index=False)\n",
        "custgeo.to_csv('customer-geo-dataset.csv', index=False)\n",
        "orderItem.to_csv('order-item.csv', index=False)\n",
        "paymentGroup.to_csv('payment-type.csv', index=False)\n",
        "orderProduct.to_csv('product.csv',index=False)\n",
        "ordersSellers.to_csv('seller.csv',index=False)\n",
        "ordersReviews.to_csv('Reviews.csv',index=False)"
      ]
    }
  ],
  "metadata": {
    "colab": {
      "collapsed_sections": [
        "ima2vUB_j_5Y"
      ],
      "provenance": []
    },
    "kernelspec": {
      "display_name": "Python 3",
      "name": "python3"
    },
    "language_info": {
      "codemirror_mode": {
        "name": "ipython",
        "version": 3
      },
      "file_extension": ".py",
      "mimetype": "text/x-python",
      "name": "python",
      "nbconvert_exporter": "python",
      "pygments_lexer": "ipython3",
      "version": "3.12.0"
    }
  },
  "nbformat": 4,
  "nbformat_minor": 0
}
